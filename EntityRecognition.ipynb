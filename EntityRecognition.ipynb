{
 "cells": [
  {
   "cell_type": "code",
   "execution_count": 1,
   "id": "794f92b1-3cae-4fc9-91e6-5482fbe861d6",
   "metadata": {},
   "outputs": [],
   "source": [
    "import spacy"
   ]
  },
  {
   "cell_type": "code",
   "execution_count": 2,
   "id": "735abdeb-23f6-45cf-82e0-d4b522843550",
   "metadata": {},
   "outputs": [],
   "source": [
    "# ensure to use this on your terminal python -m spacy download en_core_web_sm\n",
    "\n",
    "nlp = spacy.load(\"en_core_web_trf\")"
   ]
  },
  {
   "cell_type": "code",
   "execution_count": 3,
   "id": "8b1ec9ab-55dd-4c41-b4fd-e9790229934b",
   "metadata": {},
   "outputs": [
    {
     "data": {
      "text/plain": [
       "['transformer', 'tagger', 'parser', 'attribute_ruler', 'lemmatizer', 'ner']"
      ]
     },
     "execution_count": 3,
     "metadata": {},
     "output_type": "execute_result"
    }
   ],
   "source": [
    "nlp.pipe_names"
   ]
  },
  {
   "cell_type": "code",
   "execution_count": 4,
   "id": "5b0ca28f-5f40-4f93-9e3a-73e333113698",
   "metadata": {},
   "outputs": [],
   "source": [
    "doc = nlp(\"Red blouse are good\")\n",
    "\n",
    "for ent in doc.ents:\n",
    "    print(ent.text, \"|\", ent.label_, \"|\", spacy.explain(ent.label_))"
   ]
  },
  {
   "cell_type": "code",
   "execution_count": 5,
   "id": "c5141cfc-3a9c-42f4-9d0a-185034a59736",
   "metadata": {},
   "outputs": [
    {
     "name": "stderr",
     "output_type": "stream",
     "text": [
      "C:\\Users\\mikos\\AppData\\Local\\Packages\\PythonSoftwareFoundation.Python.3.10_qbz5n2kfra8p0\\LocalCache\\local-packages\\Python310\\site-packages\\spacy\\displacy\\__init__.py:213: UserWarning: [W006] No entities to visualize found in Doc object. If this is surprising to you, make sure the Doc was processed using a model that supports named entity recognition, and check the `doc.ents` property manually if necessary.\n",
      "  warnings.warn(Warnings.W006)\n"
     ]
    },
    {
     "data": {
      "text/html": [
       "<span class=\"tex2jax_ignore\"><div class=\"entities\" style=\"line-height: 2.5; direction: ltr\">Red blouse are good</div></span>"
      ],
      "text/plain": [
       "<IPython.core.display.HTML object>"
      ]
     },
     "metadata": {},
     "output_type": "display_data"
    }
   ],
   "source": [
    "from spacy import displacy\n",
    "displacy.render(doc, style=\"ent\", jupyter=True)"
   ]
  },
  {
   "cell_type": "markdown",
   "id": "eeae3676-4905-45c6-a017-837e2ef2e557",
   "metadata": {},
   "source": [
    "## Fine tuning Spacy on Custom Dataset"
   ]
  },
  {
   "cell_type": "markdown",
   "id": "cddcff1d-ba66-4762-bf09-1a9eea5d5450",
   "metadata": {},
   "source": [
    "#### Import synthetic data"
   ]
  },
  {
   "cell_type": "code",
   "execution_count": 9,
   "id": "ac4335df-e7c5-44dd-88b7-944cce8bc3ad",
   "metadata": {},
   "outputs": [],
   "source": [
    "import json"
   ]
  },
  {
   "cell_type": "code",
   "execution_count": 10,
   "id": "60a7d579-6d40-426e-a281-45e6419326b8",
   "metadata": {},
   "outputs": [],
   "source": [
    "with open (\"synthetic_ner_training_data_fixed.json\", \"r\") as f:\n",
    "    data = json.load(f)"
   ]
  },
  {
   "cell_type": "code",
   "execution_count": 11,
   "id": "4172670c-fe19-4520-9c09-c9de452f94dc",
   "metadata": {
    "scrolled": true
   },
   "outputs": [
    {
     "data": {
      "text/plain": [
       "[{'id': 'ca-1',\n",
       "  'content': \"list all products at Yemi's Fashion House\",\n",
       "  'annotations': [{'start': 21, 'end': 41, 'tag_name': 'store'}]},\n",
       " {'id': 'ca-2',\n",
       "  'content': 'find for Fufu across all stores',\n",
       "  'annotations': [{'start': 9, 'end': 13, 'tag_name': 'product'}]},\n",
       " {'id': 'ca-3',\n",
       "  'content': 'list all products at Oga Market',\n",
       "  'annotations': [{'start': 21, 'end': 31, 'tag_name': 'store'}]},\n",
       " {'id': 'ca-5',\n",
       "  'content': 'check my order with id 01314',\n",
       "  'annotations': [{'start': 23, 'end': 28, 'tag_name': 'orderId'}]},\n",
       " {'id': 'ca-7',\n",
       "  'content': 'list all products at Mama Nkechi’s Groceries',\n",
       "  'annotations': [{'start': 21, 'end': 44, 'tag_name': 'store'}]},\n",
       " {'id': 'ca-11',\n",
       "  'content': 'make a reservation at Mama Nkechi’s Groceries for 2024-12-15 at 12:45',\n",
       "  'annotations': [{'start': 22, 'end': 45, 'tag_name': 'store'},\n",
       "   {'start': 50, 'end': 60, 'tag_name': 'date'},\n",
       "   {'start': 64, 'end': 69, 'tag_name': 'time'}]},\n",
       " {'id': 'ca-12',\n",
       "  'content': 'make a reservation at Mama Nkechi’s Groceries for 2024-12-15 at 16:30',\n",
       "  'annotations': [{'start': 22, 'end': 45, 'tag_name': 'store'},\n",
       "   {'start': 50, 'end': 60, 'tag_name': 'date'},\n",
       "   {'start': 64, 'end': 69, 'tag_name': 'time'}]},\n",
       " {'id': 'ca-13',\n",
       "  'content': 'list all products at Oga Market',\n",
       "  'annotations': [{'start': 21, 'end': 31, 'tag_name': 'store'}]},\n",
       " {'id': 'ca-14',\n",
       "  'content': 'contact support about Damaged product',\n",
       "  'annotations': [{'start': 22, 'end': 37, 'tag_name': 'issue'}]},\n",
       " {'id': 'ca-15',\n",
       "  'content': 'check my order with id 00123',\n",
       "  'annotations': [{'start': 23, 'end': 28, 'tag_name': 'orderId'}]},\n",
       " {'id': 'ca-16',\n",
       "  'content': 'put 4 of Local beans from Lagos Essentials to my cart',\n",
       "  'annotations': [{'start': 9, 'end': 20, 'tag_name': 'product'},\n",
       "   {'start': 26, 'end': 42, 'tag_name': 'store'},\n",
       "   {'start': 4, 'end': 5, 'tag_name': 'quantity'}]},\n",
       " {'id': 'ca-17',\n",
       "  'content': 'cancel my reservation with id 67890',\n",
       "  'annotations': [{'start': 30, 'end': 35, 'tag_name': 'reservationId'}]},\n",
       " {'id': 'ca-18',\n",
       "  'content': 'put 3 of Palm sandals from Lagos Essentials to my cart',\n",
       "  'annotations': [{'start': 9, 'end': 21, 'tag_name': 'product'},\n",
       "   {'start': 27, 'end': 43, 'tag_name': 'store'},\n",
       "   {'start': 4, 'end': 5, 'tag_name': 'quantity'}]},\n",
       " {'id': 'ca-19',\n",
       "  'content': 'check my order with id 00456',\n",
       "  'annotations': [{'start': 23, 'end': 28, 'tag_name': 'orderId'}]},\n",
       " {'id': 'ca-20',\n",
       "  'content': 'give me details about Balogun Boutiques',\n",
       "  'annotations': [{'start': 22, 'end': 39, 'tag_name': 'store'}]},\n",
       " {'id': 'ca-22',\n",
       "  'content': 'find for Fufu across all stores',\n",
       "  'annotations': [{'start': 9, 'end': 13, 'tag_name': 'product'}]},\n",
       " {'id': 'ca-24',\n",
       "  'content': 'list all products at Balogun Boutiques',\n",
       "  'annotations': [{'start': 21, 'end': 38, 'tag_name': 'store'}]},\n",
       " {'id': 'ca-25',\n",
       "  'content': 'take out Garri from Balogun Boutiques from my cart',\n",
       "  'annotations': [{'start': 9, 'end': 14, 'tag_name': 'product'},\n",
       "   {'start': 20, 'end': 37, 'tag_name': 'store'}]},\n",
       " {'id': 'ca-26',\n",
       "  'content': 'take out Garri from Aba Traders from my cart',\n",
       "  'annotations': [{'start': 9, 'end': 14, 'tag_name': 'product'},\n",
       "   {'start': 20, 'end': 31, 'tag_name': 'store'}]},\n",
       " {'id': 'ca-28',\n",
       "  'content': 'find for Groundnut oil across all stores',\n",
       "  'annotations': [{'start': 9, 'end': 22, 'tag_name': 'product'}]},\n",
       " {'id': 'ca-29',\n",
       "  'content': 'find for Local beans across all stores',\n",
       "  'annotations': [{'start': 9, 'end': 20, 'tag_name': 'product'}]},\n",
       " {'id': 'ca-30',\n",
       "  'content': 'contact support about Issue with my order',\n",
       "  'annotations': [{'start': 22, 'end': 41, 'tag_name': 'issue'}]},\n",
       " {'id': 'ca-31',\n",
       "  'content': \"give me details about Yemi's Fashion House\",\n",
       "  'annotations': [{'start': 22, 'end': 42, 'tag_name': 'store'}]},\n",
       " {'id': 'ca-37',\n",
       "  'content': 'make a reservation at Mama Nkechi’s Groceries for 2024-09-20 at 18:00',\n",
       "  'annotations': [{'start': 22, 'end': 45, 'tag_name': 'store'},\n",
       "   {'start': 50, 'end': 60, 'tag_name': 'date'},\n",
       "   {'start': 64, 'end': 69, 'tag_name': 'time'}]},\n",
       " {'id': 'ca-40',\n",
       "  'content': 'take out Groundnut oil from Lagos Essentials from my cart',\n",
       "  'annotations': [{'start': 9, 'end': 22, 'tag_name': 'product'},\n",
       "   {'start': 28, 'end': 44, 'tag_name': 'store'}]},\n",
       " {'id': 'ca-42',\n",
       "  'content': \"list all products at Yemi's Fashion House\",\n",
       "  'annotations': [{'start': 21, 'end': 41, 'tag_name': 'store'}]},\n",
       " {'id': 'ca-44',\n",
       "  'content': 'find for Garri across all stores',\n",
       "  'annotations': [{'start': 9, 'end': 14, 'tag_name': 'product'}]},\n",
       " {'id': 'ca-45',\n",
       "  'content': 'take out Local beans from Aba Traders from my cart',\n",
       "  'annotations': [{'start': 9, 'end': 20, 'tag_name': 'product'},\n",
       "   {'start': 26, 'end': 37, 'tag_name': 'store'}]},\n",
       " {'id': 'ca-47',\n",
       "  'content': 'give me details about Lagos Essentials',\n",
       "  'annotations': [{'start': 22, 'end': 38, 'tag_name': 'store'}]},\n",
       " {'id': 'ca-48',\n",
       "  'content': 'cancel my reservation with id 67890',\n",
       "  'annotations': [{'start': 30, 'end': 35, 'tag_name': 'reservationId'}]},\n",
       " {'id': 'ca-50',\n",
       "  'content': 'list all products at Aba Traders',\n",
       "  'annotations': [{'start': 21, 'end': 32, 'tag_name': 'store'}]},\n",
       " {'id': 'ca-51',\n",
       "  'content': 'give me details about Mama Nkechi’s Groceries',\n",
       "  'annotations': [{'start': 22, 'end': 45, 'tag_name': 'store'}]},\n",
       " {'id': 'ca-53',\n",
       "  'content': 'cancel my reservation with id 11223',\n",
       "  'annotations': [{'start': 30, 'end': 35, 'tag_name': 'reservationId'}]},\n",
       " {'id': 'ca-54',\n",
       "  'content': 'find for Local beans across all stores',\n",
       "  'annotations': [{'start': 9, 'end': 20, 'tag_name': 'product'}]},\n",
       " {'id': 'ca-58',\n",
       "  'content': 'check my order with id 00789',\n",
       "  'annotations': [{'start': 23, 'end': 28, 'tag_name': 'orderId'}]},\n",
       " {'id': 'ca-59',\n",
       "  'content': 'make a reservation at Lagos Essentials for 2024-09-20 at 18:00',\n",
       "  'annotations': [{'start': 22, 'end': 38, 'tag_name': 'store'},\n",
       "   {'start': 43, 'end': 53, 'tag_name': 'date'},\n",
       "   {'start': 57, 'end': 62, 'tag_name': 'time'}]},\n",
       " {'id': 'ca-60',\n",
       "  'content': \"put 1 of Shea butter from Yemi's Fashion House to my cart\",\n",
       "  'annotations': [{'start': 9, 'end': 20, 'tag_name': 'product'},\n",
       "   {'start': 26, 'end': 46, 'tag_name': 'store'},\n",
       "   {'start': 4, 'end': 5, 'tag_name': 'quantity'}]},\n",
       " {'id': 'ca-61',\n",
       "  'content': 'take out Palm sandals from Mama Nkechi’s Groceries from my cart',\n",
       "  'annotations': [{'start': 9, 'end': 21, 'tag_name': 'product'},\n",
       "   {'start': 27, 'end': 50, 'tag_name': 'store'}]},\n",
       " {'id': 'ca-63',\n",
       "  'content': 'check my order with id 00456',\n",
       "  'annotations': [{'start': 23, 'end': 28, 'tag_name': 'orderId'}]},\n",
       " {'id': 'ca-64',\n",
       "  'content': 'contact support about Item not delivered',\n",
       "  'annotations': [{'start': 22, 'end': 40, 'tag_name': 'issue'}]},\n",
       " {'id': 'ca-66',\n",
       "  'content': 'check my order with id 00789',\n",
       "  'annotations': [{'start': 23, 'end': 28, 'tag_name': 'orderId'}]},\n",
       " {'id': 'ca-68',\n",
       "  'content': 'cancel my reservation with id 11223',\n",
       "  'annotations': [{'start': 30, 'end': 35, 'tag_name': 'reservationId'}]},\n",
       " {'id': 'ca-70',\n",
       "  'content': 'find for Palm sandals across all stores',\n",
       "  'annotations': [{'start': 9, 'end': 21, 'tag_name': 'product'}]},\n",
       " {'id': 'ca-71',\n",
       "  'content': 'cancel my reservation with id 54321',\n",
       "  'annotations': [{'start': 30, 'end': 35, 'tag_name': 'reservationId'}]},\n",
       " {'id': 'ca-72',\n",
       "  'content': 'give me details about Mama Nkechi’s Groceries',\n",
       "  'annotations': [{'start': 22, 'end': 45, 'tag_name': 'store'}]},\n",
       " {'id': 'ca-73',\n",
       "  'content': 'find for Shea butter across all stores',\n",
       "  'annotations': [{'start': 9, 'end': 20, 'tag_name': 'product'}]},\n",
       " {'id': 'ca-74',\n",
       "  'content': 'contact support about Incorrect billing',\n",
       "  'annotations': [{'start': 22, 'end': 39, 'tag_name': 'issue'}]},\n",
       " {'id': 'ca-75',\n",
       "  'content': 'check my order with id 00456',\n",
       "  'annotations': [{'start': 23, 'end': 28, 'tag_name': 'orderId'}]},\n",
       " {'id': 'ca-76',\n",
       "  'content': 'check my order with id 01011',\n",
       "  'annotations': [{'start': 23, 'end': 28, 'tag_name': 'orderId'}]},\n",
       " {'id': 'ca-77',\n",
       "  'content': 'check my order with id 00456',\n",
       "  'annotations': [{'start': 23, 'end': 28, 'tag_name': 'orderId'}]},\n",
       " {'id': 'ca-80',\n",
       "  'content': 'check my order with id 00789',\n",
       "  'annotations': [{'start': 23, 'end': 28, 'tag_name': 'orderId'}]},\n",
       " {'id': 'ca-82',\n",
       "  'content': 'cancel my reservation with id 11223',\n",
       "  'annotations': [{'start': 30, 'end': 35, 'tag_name': 'reservationId'}]},\n",
       " {'id': 'ca-83',\n",
       "  'content': 'cancel my reservation with id 54321',\n",
       "  'annotations': [{'start': 30, 'end': 35, 'tag_name': 'reservationId'}]},\n",
       " {'id': 'ca-84',\n",
       "  'content': 'put 4 of Shea butter from Balogun Boutiques to my cart',\n",
       "  'annotations': [{'start': 9, 'end': 20, 'tag_name': 'product'},\n",
       "   {'start': 26, 'end': 43, 'tag_name': 'store'},\n",
       "   {'start': 4, 'end': 5, 'tag_name': 'quantity'}]},\n",
       " {'id': 'ca-86',\n",
       "  'content': 'put 2 of Local beans from Aba Traders to my cart',\n",
       "  'annotations': [{'start': 9, 'end': 20, 'tag_name': 'product'},\n",
       "   {'start': 26, 'end': 37, 'tag_name': 'store'},\n",
       "   {'start': 4, 'end': 5, 'tag_name': 'quantity'}]},\n",
       " {'id': 'ca-87',\n",
       "  'content': 'check my order with id 01011',\n",
       "  'annotations': [{'start': 23, 'end': 28, 'tag_name': 'orderId'}]},\n",
       " {'id': 'ca-88',\n",
       "  'content': 'cancel my reservation with id 54321',\n",
       "  'annotations': [{'start': 30, 'end': 35, 'tag_name': 'reservationId'}]},\n",
       " {'id': 'ca-89',\n",
       "  'content': 'check my order with id 00789',\n",
       "  'annotations': [{'start': 23, 'end': 28, 'tag_name': 'orderId'}]},\n",
       " {'id': 'ca-90',\n",
       "  'content': \"list all products at Yemi's Fashion House\",\n",
       "  'annotations': [{'start': 21, 'end': 41, 'tag_name': 'store'}]},\n",
       " {'id': 'ca-92',\n",
       "  'content': \"put 1 of Palm sandals from Yemi's Fashion House to my cart\",\n",
       "  'annotations': [{'start': 9, 'end': 21, 'tag_name': 'product'},\n",
       "   {'start': 27, 'end': 47, 'tag_name': 'store'},\n",
       "   {'start': 4, 'end': 5, 'tag_name': 'quantity'}]},\n",
       " {'id': 'ca-99',\n",
       "  'content': \"take out Ankara dress from Yemi's Fashion House from my cart\",\n",
       "  'annotations': [{'start': 9, 'end': 21, 'tag_name': 'product'},\n",
       "   {'start': 27, 'end': 47, 'tag_name': 'store'}]},\n",
       " {'id': 'ca-100',\n",
       "  'content': 'make a reservation at Lagos Essentials for 2024-08-25 at 12:45',\n",
       "  'annotations': [{'start': 22, 'end': 38, 'tag_name': 'store'},\n",
       "   {'start': 43, 'end': 53, 'tag_name': 'date'},\n",
       "   {'start': 57, 'end': 62, 'tag_name': 'time'}]}]"
      ]
     },
     "execution_count": 11,
     "metadata": {},
     "output_type": "execute_result"
    }
   ],
   "source": [
    "data[\"examples\"]"
   ]
  },
  {
   "cell_type": "markdown",
   "id": "877ee0a1-a0ea-4ca4-bbf4-3354ea2251b7",
   "metadata": {},
   "source": [
    "#### Pre processing data for spacy"
   ]
  },
  {
   "cell_type": "code",
   "execution_count": 12,
   "id": "7485d759-b4fd-4084-83c5-169d35592a14",
   "metadata": {},
   "outputs": [
    {
     "name": "stdout",
     "output_type": "stream",
     "text": [
      "{'text': \"list all products at Yemi's Fashion House\", 'entities': [(21, 41, 'store')]}\n"
     ]
    }
   ],
   "source": [
    "training_data = []\n",
    "for example in data[\"examples\"]:\n",
    "    temp_dict = {}\n",
    "    temp_dict[\"text\"] = example[\"content\"]\n",
    "    temp_dict[\"entities\"] = []\n",
    "    for annotation in example[\"annotations\"]:\n",
    "        start = annotation[\"start\"]\n",
    "        end = annotation[\"end\"]\n",
    "        label = annotation[\"tag_name\"]\n",
    "        temp_dict[\"entities\"].append((start, end, label))\n",
    "    training_data.append(temp_dict)\n",
    "\n",
    "print(training_data[0])"
   ]
  },
  {
   "cell_type": "markdown",
   "id": "ae8c7b58-e908-481b-9bed-3bf186e6620c",
   "metadata": {},
   "source": [
    "#### Converting training data to SpaCy Docbin format"
   ]
  },
  {
   "cell_type": "code",
   "execution_count": 14,
   "id": "5a76af04-f56e-47ee-a1c1-708979e20310",
   "metadata": {},
   "outputs": [
    {
     "name": "stderr",
     "output_type": "stream",
     "text": [
      "100%|████████████████████████████████████████████████████████████████████████| 62/62 [00:00<00:00, 4375.76it/s]\n"
     ]
    }
   ],
   "source": [
    "from spacy.tokens import DocBin\n",
    "from tqdm import tqdm\n",
    "from spacy.util import filter_spans\n",
    "\n",
    "\n",
    "nlp = spacy.blank(\"en\")\n",
    "doc_bin = DocBin()\n",
    "\n",
    "for training_example in tqdm(training_data):\n",
    "    text = training_example[\"text\"]\n",
    "    labels = training_example[\"entities\"]\n",
    "    doc = nlp.make_doc(text)\n",
    "    ents = []\n",
    "    for start, end, label in labels:\n",
    "        span = doc.char_span(start, end, label=label, alignment_mode=\"contract\")\n",
    "        if span is None:\n",
    "            print(\"Skipping entity\")\n",
    "        else:\n",
    "            ents.append(span)\n",
    "    filtered_ents = filter_spans(ents)\n",
    "    doc.ents = filtered_ents\n",
    "    doc_bin.add(doc)\n",
    "\n",
    "doc_bin.to_disk(\"train.spacy\")"
   ]
  },
  {
   "cell_type": "markdown",
   "id": "013970e1-42a6-4b96-a5cc-23aa26e40d83",
   "metadata": {},
   "source": [
    "#### Intialise spacy"
   ]
  },
  {
   "cell_type": "code",
   "execution_count": 15,
   "id": "61f7a4d2-8a23-41b0-90a3-604b9ab560ca",
   "metadata": {
    "scrolled": true
   },
   "outputs": [
    {
     "name": "stdout",
     "output_type": "stream",
     "text": [
      "\u001b[38;5;2m[+] Auto-filled config with all values\u001b[0m\n",
      "\u001b[38;5;2m[+] Saved config\u001b[0m\n",
      "config.cfg\n",
      "You can now add your data and train your pipeline:\n",
      "python -m spacy train config.cfg --paths.train ./train.spacy --paths.dev ./dev.spacy\n"
     ]
    }
   ],
   "source": [
    "!python -m spacy init fill-config Base_config.cfg config.cfg"
   ]
  },
  {
   "cell_type": "markdown",
   "id": "aa44feac-512e-4689-9baa-49ca62817057",
   "metadata": {},
   "source": [
    "#### Training Spacy"
   ]
  },
  {
   "cell_type": "code",
   "execution_count": null,
   "id": "f84c99d4-dfc4-4a0f-ba79-f2658410ed25",
   "metadata": {},
   "outputs": [],
   "source": [
    "!python -m spacy train config.cfg --paths.train ./train.spacy --paths.dev ./train.spacy"
   ]
  }
 ],
 "metadata": {
  "kernelspec": {
   "display_name": "Python 3 (ipykernel)",
   "language": "python",
   "name": "python3"
  },
  "language_info": {
   "codemirror_mode": {
    "name": "ipython",
    "version": 3
   },
   "file_extension": ".py",
   "mimetype": "text/x-python",
   "name": "python",
   "nbconvert_exporter": "python",
   "pygments_lexer": "ipython3",
   "version": "3.10.11"
  }
 },
 "nbformat": 4,
 "nbformat_minor": 5
}
