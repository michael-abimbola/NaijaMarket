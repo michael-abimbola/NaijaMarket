{
 "cells": [
  {
   "cell_type": "markdown",
   "id": "e802e650-27dd-4c6e-8409-8f43401f3e15",
   "metadata": {},
   "source": [
    "## Import dataframe"
   ]
  },
  {
   "cell_type": "code",
   "execution_count": 1,
   "id": "64e212e1-5356-4897-8a72-0369f137098c",
   "metadata": {},
   "outputs": [],
   "source": [
    "import pandas as pd\n",
    "import matplotlib.pyplot as plt"
   ]
  },
  {
   "cell_type": "code",
   "execution_count": 2,
   "id": "9f5504c4-e550-4a45-8226-57ced7635363",
   "metadata": {},
   "outputs": [],
   "source": [
    "# df = pd.read_json(\"train_AddToPlaylist_full.json\")\n",
    "df = pd.read_csv(\"intent_recognition_nigerian_varied_expanded.csv\") "
   ]
  },
  {
   "cell_type": "code",
   "execution_count": 3,
   "id": "6dffc531-2083-420a-9a6d-2d576527b5f3",
   "metadata": {},
   "outputs": [],
   "source": [
    "new_df = df.head(500)"
   ]
  },
  {
   "cell_type": "code",
   "execution_count": 4,
   "id": "331df221-3d30-4398-b406-b7187e685b71",
   "metadata": {},
   "outputs": [],
   "source": [
    "selected_new_df = new_df[[\"text-en\", \"intent-en\"]]"
   ]
  },
  {
   "cell_type": "code",
   "execution_count": 47,
   "id": "446eddbb-1314-4b62-80d5-920b494b20ff",
   "metadata": {},
   "outputs": [
    {
     "data": {
      "text/html": [
       "<div>\n",
       "<style scoped>\n",
       "    .dataframe tbody tr th:only-of-type {\n",
       "        vertical-align: middle;\n",
       "    }\n",
       "\n",
       "    .dataframe tbody tr th {\n",
       "        vertical-align: top;\n",
       "    }\n",
       "\n",
       "    .dataframe thead th {\n",
       "        text-align: right;\n",
       "    }\n",
       "</style>\n",
       "<table border=\"1\" class=\"dataframe\">\n",
       "  <thead>\n",
       "    <tr style=\"text-align: right;\">\n",
       "      <th></th>\n",
       "      <th>text-en</th>\n",
       "      <th>intent-en</th>\n",
       "    </tr>\n",
       "  </thead>\n",
       "  <tbody>\n",
       "    <tr>\n",
       "      <th>110</th>\n",
       "      <td>What items do you think I should try?</td>\n",
       "      <td>getRecommendations</td>\n",
       "    </tr>\n",
       "    <tr>\n",
       "      <th>111</th>\n",
       "      <td>Give me some suggestions based on my preferences</td>\n",
       "      <td>getRecommendations</td>\n",
       "    </tr>\n",
       "    <tr>\n",
       "      <th>112</th>\n",
       "      <td>What products should I check out?</td>\n",
       "      <td>getRecommendations</td>\n",
       "    </tr>\n",
       "    <tr>\n",
       "      <th>113</th>\n",
       "      <td>I’m looking for recommendations</td>\n",
       "      <td>getRecommendations</td>\n",
       "    </tr>\n",
       "    <tr>\n",
       "      <th>114</th>\n",
       "      <td>What would you suggest based on my past purcha...</td>\n",
       "      <td>getRecommendations</td>\n",
       "    </tr>\n",
       "    <tr>\n",
       "      <th>115</th>\n",
       "      <td>Suggest something for me</td>\n",
       "      <td>getRecommendations</td>\n",
       "    </tr>\n",
       "    <tr>\n",
       "      <th>116</th>\n",
       "      <td>Give me some suggestions based on my preferences</td>\n",
       "      <td>getRecommendations</td>\n",
       "    </tr>\n",
       "    <tr>\n",
       "      <th>117</th>\n",
       "      <td>Can you recommend items for me?</td>\n",
       "      <td>getRecommendations</td>\n",
       "    </tr>\n",
       "    <tr>\n",
       "      <th>118</th>\n",
       "      <td>Give me some suggestions based on my preferences</td>\n",
       "      <td>getRecommendations</td>\n",
       "    </tr>\n",
       "    <tr>\n",
       "      <th>119</th>\n",
       "      <td>Can I get some product recommendations?</td>\n",
       "      <td>getRecommendations</td>\n",
       "    </tr>\n",
       "  </tbody>\n",
       "</table>\n",
       "</div>"
      ],
      "text/plain": [
       "                                               text-en           intent-en\n",
       "110              What items do you think I should try?  getRecommendations\n",
       "111   Give me some suggestions based on my preferences  getRecommendations\n",
       "112                  What products should I check out?  getRecommendations\n",
       "113                    I’m looking for recommendations  getRecommendations\n",
       "114  What would you suggest based on my past purcha...  getRecommendations\n",
       "115                           Suggest something for me  getRecommendations\n",
       "116   Give me some suggestions based on my preferences  getRecommendations\n",
       "117                    Can you recommend items for me?  getRecommendations\n",
       "118   Give me some suggestions based on my preferences  getRecommendations\n",
       "119            Can I get some product recommendations?  getRecommendations"
      ]
     },
     "execution_count": 47,
     "metadata": {},
     "output_type": "execute_result"
    }
   ],
   "source": [
    "selected_new_df[selected_new_df[\"intent-en\"] == \"getRecommendations\"]"
   ]
  },
  {
   "cell_type": "code",
   "execution_count": 6,
   "id": "dcae6446-283b-4299-b84c-86d1b1c85bbf",
   "metadata": {},
   "outputs": [],
   "source": [
    "# selected_new_df[selected_new_df[\"intent-en\"] == \"makeReservation\"][\"text-en\"][7]"
   ]
  },
  {
   "cell_type": "markdown",
   "id": "b72abc61-c707-40e9-8100-aca99e016998",
   "metadata": {},
   "source": [
    "## Data preparation (Train Test split)"
   ]
  },
  {
   "cell_type": "code",
   "execution_count": 7,
   "id": "ddbb4287-d12e-4743-9f13-67e07badd403",
   "metadata": {},
   "outputs": [],
   "source": [
    "import numpy as np\n",
    "import tensorflow as tf\n",
    "from sklearn.model_selection import train_test_split"
   ]
  },
  {
   "cell_type": "code",
   "execution_count": 8,
   "id": "0c83b442-c25a-4a34-9e6b-fff23c85211d",
   "metadata": {},
   "outputs": [],
   "source": [
    "TEST_SPLIT = 0.2\n",
    "RANDOM_STATE = 10\n",
    "\n",
    "np.random.seed(RANDOM_STATE)\n",
    "tf.random.set_seed(RANDOM_STATE)"
   ]
  },
  {
   "cell_type": "code",
   "execution_count": 9,
   "id": "f460d3fd-20a9-40a5-b6be-de0afdb31950",
   "metadata": {},
   "outputs": [
    {
     "name": "stdout",
     "output_type": "stream",
     "text": [
      "(112,) (28,) (112,) (28,)\n"
     ]
    }
   ],
   "source": [
    "X_train, X_test, y_train, y_test = train_test_split(df[\"text-en\"], df[\"intent-en\"], \n",
    "                                                    test_size = TEST_SPLIT, random_state = RANDOM_STATE, stratify=df[\"intent-en\"])\n",
    "\n",
    "# stratify was added to ensure equal category split\n",
    "\n",
    "print(X_train.shape, X_test.shape, y_train.shape, y_test.shape)"
   ]
  },
  {
   "cell_type": "code",
   "execution_count": 10,
   "id": "1a1a88e4-f6f3-4a6b-a0ce-185ddf7bf6cd",
   "metadata": {},
   "outputs": [
    {
     "name": "stdout",
     "output_type": "stream",
     "text": [
      "['accessStores' 'addToCart' 'cancelReservation' 'contactSupport'\n",
      " 'getRecommendations' 'getStoreDetails' 'makeReservation' 'purchase'\n",
      " 'removeFromCart' 'searchProduct' 'trackOrder' 'updateProfile' 'viewCart'\n",
      " 'viewStoreProducts']\n"
     ]
    }
   ],
   "source": [
    "import numpy as np\n",
    "print(np.unique(y_test))"
   ]
  },
  {
   "cell_type": "code",
   "execution_count": 11,
   "id": "ddda23ae-2e52-4370-a408-6e77d0a946c1",
   "metadata": {},
   "outputs": [
    {
     "name": "stdout",
     "output_type": "stream",
     "text": [
      "['accessStores' 'addToCart' 'cancelReservation' 'contactSupport'\n",
      " 'getRecommendations' 'getStoreDetails' 'makeReservation' 'purchase'\n",
      " 'removeFromCart' 'searchProduct' 'trackOrder' 'updateProfile' 'viewCart'\n",
      " 'viewStoreProducts']\n"
     ]
    }
   ],
   "source": [
    "print(np.unique(y_train))"
   ]
  },
  {
   "cell_type": "markdown",
   "id": "d23537f1-19ba-4cf0-9215-a7ecbed9d4ed",
   "metadata": {},
   "source": [
    "## Data preparation (Input data (X_train and X_test) preparation for machine learning model)"
   ]
  },
  {
   "cell_type": "code",
   "execution_count": 12,
   "id": "d1c746b9-2fe4-42b3-baa8-dc4919ddf7ee",
   "metadata": {},
   "outputs": [],
   "source": [
    "from tensorflow.keras.preprocessing.text import Tokenizer\n",
    "from tensorflow.keras.preprocessing.sequence import pad_sequences"
   ]
  },
  {
   "cell_type": "code",
   "execution_count": 13,
   "id": "b72acd2a-fd8a-4be7-9b09-8cbcf9fc4f27",
   "metadata": {},
   "outputs": [],
   "source": [
    "# initialize tokenizer\n",
    "# addition of out of vocabulary token to handle unseen words outside of the training dDeprecationWarning\n",
    "# read more on the purpose of oov by looking up \n",
    "tokenizer = Tokenizer(oov_token=\"<UNK>\")\n",
    "\n",
    "## Summary: fit_on_texts creates a vocabulary (word index) based on the training data.\n",
    "\n",
    "## Longer description:\n",
    "# Fit the tokenizer on the training texts\n",
    "# This method scans all the texts in X_train, finds all unique words,\n",
    "# and assigns each word a unique index based on its frequency.\n",
    "# More frequent words get lower index numbers.\n",
    "# This prepares the tokenizer to convert text into sequences of integers.\n",
    "\n",
    "# Note: Index in this case are numbers\n",
    "tokenizer.fit_on_texts(list(X_train))"
   ]
  },
  {
   "attachments": {
    "d8ad9c4b-7f0a-438c-945d-b4887be265cf.png": {
     "image/png": "[encoded data removed]"
    }
   },
   "cell_type": "markdown",
   "id": "a1a2eb0c-b0e8-4a48-bc41-e606c5f6afe6",
   "metadata": {},
   "source": [
    "![image.png](attachment:d8ad9c4b-7f0a-438c-945d-b4887be265cf.png)"
   ]
  },
  {
   "cell_type": "code",
   "execution_count": 14,
   "id": "9e0cc7ce-c466-4298-b50b-9bdad689f3d9",
   "metadata": {},
   "outputs": [],
   "source": [
    "#Convert text to sequences\n",
    "# texts_to_sequences uses this vocabulary to ensure that the same words are always converted to the same indices.\n",
    "X_seq = tokenizer.texts_to_sequences(list(X_train))\n",
    "X_test_seq = tokenizer.texts_to_sequences(list(X_test))"
   ]
  },
  {
   "attachments": {
    "f44c1ba4-90bf-4c20-8f69-4135a14a239e.png": {
     "image/png": "[encoded data removed]"
    }
   },
   "cell_type": "markdown",
   "id": "5d05762c-fecb-4195-9c45-42a7771e4c44",
   "metadata": {},
   "source": [
    "![image.png](attachment:f44c1ba4-90bf-4c20-8f69-4135a14a239e.png)"
   ]
  },
  {
   "cell_type": "code",
   "execution_count": 15,
   "id": "6579726f-9e71-4de8-8435-118f9b4f7224",
   "metadata": {},
   "outputs": [
    {
     "name": "stdout",
     "output_type": "stream",
     "text": [
      "(112, 35) (28, 35)\n"
     ]
    }
   ],
   "source": [
    "MAX_SEQ_LEN = 35\n",
    "\n",
    "#Pad the sequences to ensure all sequences have the same length since neural networks \n",
    "# expect input sequences to have the same length\n",
    "# This can be done either at the beginning (pre) or at the end (post) of the sequences.\n",
    "\n",
    "# pad_sequences adjusts all sequences to the same length (MAX_SEQ_LEN).\n",
    "# maxlen=MAX_SEQ_LEN specifies the desired length of the sequences.\n",
    "# padding='post' specifies that padding should be added at the end of the sequences.\n",
    "\n",
    "X_train = pad_sequences(X_seq, maxlen = MAX_SEQ_LEN, padding = 'post')\n",
    "X_test = pad_sequences(X_test_seq, maxlen = MAX_SEQ_LEN, padding = 'post')\n",
    "\n",
    "print(X_train.shape, X_test.shape)"
   ]
  },
  {
   "cell_type": "markdown",
   "id": "a58f8ac8-2a12-48e6-a5db-08ea67f350df",
   "metadata": {},
   "source": [
    "## Data preparation (Output data (y_train and y_test) preparation for machine learning model)  \n",
    "#### Convert y labels into labels then one hot encoded values  \n",
    "Why These Steps Are Necessary:   \n",
    "Label Encoding: Machine learning algorithms, particularly neural networks, do not understand categorical labels directly. Label encoding converts these labels into a numerical format.  \n",
    "\n",
    "One-Hot Encoding: For classification tasks, especially in multi-class classification, models often perform better when the labels are one-hot encoded. This format makes it easier for the model to output probabilities for each class and compute the loss correctly."
   ]
  },
  {
   "cell_type": "code",
   "execution_count": 16,
   "id": "c05c82e8-ad56-4e25-8a3b-6d23e22f7035",
   "metadata": {},
   "outputs": [],
   "source": [
    "from sklearn.preprocessing import LabelEncoder\n",
    "from tensorflow.keras import utils\n"
   ]
  },
  {
   "cell_type": "code",
   "execution_count": 17,
   "id": "143ce559-f345-4bae-ba15-a9f216a804e1",
   "metadata": {},
   "outputs": [
    {
     "data": {
      "text/html": [
       "<style>#sk-container-id-1 {color: black;}#sk-container-id-1 pre{padding: 0;}#sk-container-id-1 div.sk-toggleable {background-color: white;}#sk-container-id-1 label.sk-toggleable__label {cursor: pointer;display: block;width: 100%;margin-bottom: 0;padding: 0.3em;box-sizing: border-box;text-align: center;}#sk-container-id-1 label.sk-toggleable__label-arrow:before {content: \"▸\";float: left;margin-right: 0.25em;color: #696969;}#sk-container-id-1 label.sk-toggleable__label-arrow:hover:before {color: black;}#sk-container-id-1 div.sk-estimator:hover label.sk-toggleable__label-arrow:before {color: black;}#sk-container-id-1 div.sk-toggleable__content {max-height: 0;max-width: 0;overflow: hidden;text-align: left;background-color: #f0f8ff;}#sk-container-id-1 div.sk-toggleable__content pre {margin: 0.2em;color: black;border-radius: 0.25em;background-color: #f0f8ff;}#sk-container-id-1 input.sk-toggleable__control:checked~div.sk-toggleable__content {max-height: 200px;max-width: 100%;overflow: auto;}#sk-container-id-1 input.sk-toggleable__control:checked~label.sk-toggleable__label-arrow:before {content: \"▾\";}#sk-container-id-1 div.sk-estimator input.sk-toggleable__control:checked~label.sk-toggleable__label {background-color: #d4ebff;}#sk-container-id-1 div.sk-label input.sk-toggleable__control:checked~label.sk-toggleable__label {background-color: #d4ebff;}#sk-container-id-1 input.sk-hidden--visually {border: 0;clip: rect(1px 1px 1px 1px);clip: rect(1px, 1px, 1px, 1px);height: 1px;margin: -1px;overflow: hidden;padding: 0;position: absolute;width: 1px;}#sk-container-id-1 div.sk-estimator {font-family: monospace;background-color: #f0f8ff;border: 1px dotted black;border-radius: 0.25em;box-sizing: border-box;margin-bottom: 0.5em;}#sk-container-id-1 div.sk-estimator:hover {background-color: #d4ebff;}#sk-container-id-1 div.sk-parallel-item::after {content: \"\";width: 100%;border-bottom: 1px solid gray;flex-grow: 1;}#sk-container-id-1 div.sk-label:hover label.sk-toggleable__label {background-color: #d4ebff;}#sk-container-id-1 div.sk-serial::before {content: \"\";position: absolute;border-left: 1px solid gray;box-sizing: border-box;top: 0;bottom: 0;left: 50%;z-index: 0;}#sk-container-id-1 div.sk-serial {display: flex;flex-direction: column;align-items: center;background-color: white;padding-right: 0.2em;padding-left: 0.2em;position: relative;}#sk-container-id-1 div.sk-item {position: relative;z-index: 1;}#sk-container-id-1 div.sk-parallel {display: flex;align-items: stretch;justify-content: center;background-color: white;position: relative;}#sk-container-id-1 div.sk-item::before, #sk-container-id-1 div.sk-parallel-item::before {content: \"\";position: absolute;border-left: 1px solid gray;box-sizing: border-box;top: 0;bottom: 0;left: 50%;z-index: -1;}#sk-container-id-1 div.sk-parallel-item {display: flex;flex-direction: column;z-index: 1;position: relative;background-color: white;}#sk-container-id-1 div.sk-parallel-item:first-child::after {align-self: flex-end;width: 50%;}#sk-container-id-1 div.sk-parallel-item:last-child::after {align-self: flex-start;width: 50%;}#sk-container-id-1 div.sk-parallel-item:only-child::after {width: 0;}#sk-container-id-1 div.sk-dashed-wrapped {border: 1px dashed gray;margin: 0 0.4em 0.5em 0.4em;box-sizing: border-box;padding-bottom: 0.4em;background-color: white;}#sk-container-id-1 div.sk-label label {font-family: monospace;font-weight: bold;display: inline-block;line-height: 1.2em;}#sk-container-id-1 div.sk-label-container {text-align: center;}#sk-container-id-1 div.sk-container {/* jupyter's `normalize.less` sets `[hidden] { display: none; }` but bootstrap.min.css set `[hidden] { display: none !important; }` so we also need the `!important` here to be able to override the default hidden behavior on the sphinx rendered scikit-learn.org. See: https://github.com/scikit-learn/scikit-learn/issues/21755 */display: inline-block !important;position: relative;}#sk-container-id-1 div.sk-text-repr-fallback {display: none;}</style><div id=\"sk-container-id-1\" class=\"sk-top-container\"><div class=\"sk-text-repr-fallback\"><pre>LabelEncoder()</pre><b>In a Jupyter environment, please rerun this cell to show the HTML representation or trust the notebook. <br />On GitHub, the HTML representation is unable to render, please try loading this page with nbviewer.org.</b></div><div class=\"sk-container\" hidden><div class=\"sk-item\"><div class=\"sk-estimator sk-toggleable\"><input class=\"sk-toggleable__control sk-hidden--visually\" id=\"sk-estimator-id-1\" type=\"checkbox\" checked><label for=\"sk-estimator-id-1\" class=\"sk-toggleable__label sk-toggleable__label-arrow\">LabelEncoder</label><div class=\"sk-toggleable__content\"><pre>LabelEncoder()</pre></div></div></div></div></div>"
      ],
      "text/plain": [
       "LabelEncoder()"
      ]
     },
     "execution_count": 17,
     "metadata": {},
     "output_type": "execute_result"
    }
   ],
   "source": [
    "#Convert labels to one-hot vectors\n",
    "y_train = y_train.to_numpy()\n",
    "encoder = LabelEncoder()\n",
    "\n",
    "# This line fits the LabelEncoder on the label data. \n",
    "# It learns all the unique categories (labels) and assigns each category a unique integer.\n",
    "encoder.fit(y_train)"
   ]
  },
  {
   "cell_type": "code",
   "execution_count": 18,
   "id": "43db733e-4632-4340-8716-073c0443bcde",
   "metadata": {},
   "outputs": [],
   "source": [
    "# This line transforms the original categorical labels into their corresponding integer representations using the fitted LabelEncoder.\n",
    "encoded_y_train = encoder.transform(y_train)\n",
    "\n",
    "# converts the integer-encoded labels into a one-hot encoded format.\n",
    "y_train_encoded = utils.to_categorical(encoded_y_train)"
   ]
  },
  {
   "cell_type": "code",
   "execution_count": 19,
   "id": "421c5280-17d9-4da9-9a08-7dfe165a703d",
   "metadata": {},
   "outputs": [],
   "source": [
    "y_test = y_test.to_numpy()\n",
    "encoded_y_test = encoder.transform(y_test)\n",
    "y_test_encoded = utils.to_categorical(encoded_y_test)"
   ]
  },
  {
   "cell_type": "code",
   "execution_count": 20,
   "id": "9c1a098f-bacc-4893-ad32-d48fa408da42",
   "metadata": {},
   "outputs": [
    {
     "name": "stdout",
     "output_type": "stream",
     "text": [
      "(112, 14) (28, 14)\n"
     ]
    }
   ],
   "source": [
    "print(y_train_encoded.shape, y_test_encoded.shape)"
   ]
  },
  {
   "cell_type": "markdown",
   "id": "0f822add-1e65-4b4e-9773-dcba14588573",
   "metadata": {},
   "source": [
    "## Set up for the Sequence Model    \n",
    "Exmaples of sequence models are Recurrent Neural Network and Transformers.   \n",
    "For this task we will use an architecture related to RNN called LSTM Long short term memory since text is sequential data  \n",
    "https://medium.com/holler-developers/intent-detection-using-sequence-models-ddae9cd861ee  \n",
    "\n",
    "\n",
    "### Steps    \n",
    "Define a tensorflow Keras sequential model and add layers to it\n",
    "- First layer will be the Embedding layer: used to represent each word with a vector of fixed length 16\n",
    "- Second layer will be the LSTM layer with 16 units with a relu activation.\n",
    "- Final layer will be the Dense layer(Output layer) with 7 units with a  softmax activation due to multi-classification\n",
    "- Compile the model with adam optimizer, categorical crtoss entropy loss and evaluate performance metrics (precision, recall and accuracy)"
   ]
  },
  {
   "cell_type": "code",
   "execution_count": 21,
   "id": "7a9b9bd2-b2cd-47df-a6f6-1f85633528d5",
   "metadata": {},
   "outputs": [],
   "source": [
    "VAL_SPLIT = 0.1\n",
    "BATCH_SIZE = 32\n",
    "EPOCHS = 80\n",
    "EMBEDDING_DIM = 16\n",
    "NUM_UNITS = 16\n",
    "NUM_CLASSES = len(selected_new_df[\"intent-en\"].unique())\n",
    "VOCAB_SIZE = len(tokenizer.word_index) + 1"
   ]
  },
  {
   "cell_type": "code",
   "execution_count": 22,
   "id": "7681c4c9-6cb4-4282-9ae9-ec82e05d262a",
   "metadata": {},
   "outputs": [
    {
     "data": {
      "text/plain": [
       "array(['addToCart', 'removeFromCart', 'viewCart', 'purchase',\n",
       "       'makeReservation', 'cancelReservation', 'accessStores',\n",
       "       'searchProduct', 'viewStoreProducts', 'trackOrder',\n",
       "       'getStoreDetails', 'getRecommendations', 'updateProfile',\n",
       "       'contactSupport'], dtype=object)"
      ]
     },
     "execution_count": 22,
     "metadata": {},
     "output_type": "execute_result"
    }
   ],
   "source": [
    "selected_new_df[\"intent-en\"].unique()"
   ]
  },
  {
   "cell_type": "code",
   "execution_count": 23,
   "id": "d70582cb-7cef-48d6-80a3-5e1db071ca69",
   "metadata": {},
   "outputs": [],
   "source": [
    "from tensorflow.keras.models import Sequential\n",
    "from tensorflow.keras.layers import Embedding, LSTM, Dense\n",
    "from tensorflow.keras.metrics import Precision, Recall"
   ]
  },
  {
   "cell_type": "code",
   "execution_count": 24,
   "id": "bedafd7a-9239-49b9-b26b-f5fd2ef81764",
   "metadata": {},
   "outputs": [],
   "source": [
    "## Define a LSTM model  \n",
    "lstm_model = Sequential()  \n",
    "\n",
    "## Add layers  \n",
    "# this converts the data into vectors which the algorithm understands\n",
    "lstm_model.add(Embedding(input_dim=VOCAB_SIZE, output_dim=EMBEDDING_DIM, input_length=MAX_SEQ_LEN, mask_zero=True))\n",
    "\n",
    "# Captures temporal dependencies in the sequence, understanding the context and order of words.\n",
    "lstm_model.add(LSTM(NUM_UNITS, activation=\"relu\"))  \n",
    "\n",
    "# Maps the LSTM output to the number of classes, producing a probability distribution over possible intents\n",
    "lstm_model.add(Dense(NUM_CLASSES, activation=\"softmax\"))"
   ]
  },
  {
   "cell_type": "code",
   "execution_count": 25,
   "id": "171b1df2-e7bb-4737-974b-1eeaf46d71f2",
   "metadata": {},
   "outputs": [
    {
     "name": "stdout",
     "output_type": "stream",
     "text": [
      "Model: \"sequential\"\n",
      "_________________________________________________________________\n",
      " Layer (type)                Output Shape              Param #   \n",
      "=================================================================\n",
      " embedding (Embedding)       (None, 35, 16)            2912      \n",
      "                                                                 \n",
      " lstm (LSTM)                 (None, 16)                2112      \n",
      "                                                                 \n",
      " dense (Dense)               (None, 14)                238       \n",
      "                                                                 \n",
      "=================================================================\n",
      "Total params: 5262 (20.55 KB)\n",
      "Trainable params: 5262 (20.55 KB)\n",
      "Non-trainable params: 0 (0.00 Byte)\n",
      "_________________________________________________________________\n",
      "None\n"
     ]
    }
   ],
   "source": [
    "## Compile model  \n",
    "lstm_model.compile(optimizer=\"adam\", loss=\"categorical_crossentropy\", metrics=[Precision(), Recall(), \"accuracy\"])\n",
    "print(lstm_model.summary())"
   ]
  },
  {
   "cell_type": "markdown",
   "id": "4c6d90a2-9875-48e9-b794-73b66cc714fd",
   "metadata": {},
   "source": [
    "## Training the Sequence Model(LSTM model)    \n",
    "During the training ensure to look our for either an increase or decrease in precision, recall and accuracy.  \n",
    "An increase in precision and recall means the model is imporving in both identifying relevant instances(recall) and minimizing false positives(precision).  \n",
    "  \n",
    "Note: At some point stabilization at high values should occur.\n",
    "\n",
    "- Precision: The ratio of true positive predictions to the total number of positive predictions made by the model.   \n",
    "It measures the accuracy of the positive predictions.  \n",
    "\n",
    "- Recall: The ratio of true positive predictions to the total number of actual positive cases.   \n",
    "It measures the model's ability to capture all positive instances."
   ]
  },
  {
   "cell_type": "code",
   "execution_count": 26,
   "id": "fb57ceba-264c-4cdd-9c7f-e22e4c40064c",
   "metadata": {
    "scrolled": true
   },
   "outputs": [
    {
     "name": "stdout",
     "output_type": "stream",
     "text": [
      "Epoch 1/80\n",
      "4/4 [==============================] - 2s 151ms/step - loss: 2.6391 - precision: 0.0000e+00 - recall: 0.0000e+00 - accuracy: 0.0400 - val_loss: 2.6376 - val_precision: 0.0000e+00 - val_recall: 0.0000e+00 - val_accuracy: 0.0833\n",
      "Epoch 2/80\n",
      "4/4 [==============================] - 0s 22ms/step - loss: 2.6363 - precision: 0.0000e+00 - recall: 0.0000e+00 - accuracy: 0.0500 - val_loss: 2.6369 - val_precision: 0.0000e+00 - val_recall: 0.0000e+00 - val_accuracy: 0.0833\n",
      "Epoch 3/80\n",
      "4/4 [==============================] - 0s 22ms/step - loss: 2.6339 - precision: 0.0000e+00 - recall: 0.0000e+00 - accuracy: 0.1500 - val_loss: 2.6366 - val_precision: 0.0000e+00 - val_recall: 0.0000e+00 - val_accuracy: 0.1667\n",
      "Epoch 4/80\n",
      "4/4 [==============================] - 0s 23ms/step - loss: 2.6317 - precision: 0.0000e+00 - recall: 0.0000e+00 - accuracy: 0.1600 - val_loss: 2.6355 - val_precision: 0.0000e+00 - val_recall: 0.0000e+00 - val_accuracy: 0.1667\n",
      "Epoch 5/80\n",
      "4/4 [==============================] - 0s 27ms/step - loss: 2.6294 - precision: 0.0000e+00 - recall: 0.0000e+00 - accuracy: 0.1700 - val_loss: 2.6341 - val_precision: 0.0000e+00 - val_recall: 0.0000e+00 - val_accuracy: 0.1667\n",
      "Epoch 6/80\n",
      "4/4 [==============================] - 0s 25ms/step - loss: 2.6268 - precision: 0.0000e+00 - recall: 0.0000e+00 - accuracy: 0.2400 - val_loss: 2.6327 - val_precision: 0.0000e+00 - val_recall: 0.0000e+00 - val_accuracy: 0.1667\n",
      "Epoch 7/80\n",
      "4/4 [==============================] - 0s 25ms/step - loss: 2.6242 - precision: 0.0000e+00 - recall: 0.0000e+00 - accuracy: 0.2700 - val_loss: 2.6320 - val_precision: 0.0000e+00 - val_recall: 0.0000e+00 - val_accuracy: 0.1667\n",
      "Epoch 8/80\n",
      "4/4 [==============================] - 0s 23ms/step - loss: 2.6210 - precision: 0.0000e+00 - recall: 0.0000e+00 - accuracy: 0.3100 - val_loss: 2.6308 - val_precision: 0.0000e+00 - val_recall: 0.0000e+00 - val_accuracy: 0.1667\n",
      "Epoch 9/80\n",
      "4/4 [==============================] - 0s 22ms/step - loss: 2.6177 - precision: 0.0000e+00 - recall: 0.0000e+00 - accuracy: 0.2900 - val_loss: 2.6298 - val_precision: 0.0000e+00 - val_recall: 0.0000e+00 - val_accuracy: 0.1667\n",
      "Epoch 10/80\n",
      "4/4 [==============================] - 0s 22ms/step - loss: 2.6134 - precision: 0.0000e+00 - recall: 0.0000e+00 - accuracy: 0.2900 - val_loss: 2.6284 - val_precision: 0.0000e+00 - val_recall: 0.0000e+00 - val_accuracy: 0.1667\n",
      "Epoch 11/80\n",
      "4/4 [==============================] - 0s 25ms/step - loss: 2.6089 - precision: 0.0000e+00 - recall: 0.0000e+00 - accuracy: 0.2900 - val_loss: 2.6265 - val_precision: 0.0000e+00 - val_recall: 0.0000e+00 - val_accuracy: 0.1667\n",
      "Epoch 12/80\n",
      "4/4 [==============================] - 0s 25ms/step - loss: 2.6039 - precision: 0.0000e+00 - recall: 0.0000e+00 - accuracy: 0.2900 - val_loss: 2.6244 - val_precision: 0.0000e+00 - val_recall: 0.0000e+00 - val_accuracy: 0.1667\n",
      "Epoch 13/80\n",
      "4/4 [==============================] - 0s 26ms/step - loss: 2.5979 - precision: 0.0000e+00 - recall: 0.0000e+00 - accuracy: 0.3400 - val_loss: 2.6218 - val_precision: 0.0000e+00 - val_recall: 0.0000e+00 - val_accuracy: 0.1667\n",
      "Epoch 14/80\n",
      "4/4 [==============================] - 0s 24ms/step - loss: 2.5912 - precision: 0.0000e+00 - recall: 0.0000e+00 - accuracy: 0.3400 - val_loss: 2.6179 - val_precision: 0.0000e+00 - val_recall: 0.0000e+00 - val_accuracy: 0.1667\n",
      "Epoch 15/80\n",
      "4/4 [==============================] - 0s 26ms/step - loss: 2.5828 - precision: 0.0000e+00 - recall: 0.0000e+00 - accuracy: 0.3400 - val_loss: 2.6133 - val_precision: 0.0000e+00 - val_recall: 0.0000e+00 - val_accuracy: 0.1667\n",
      "Epoch 16/80\n",
      "4/4 [==============================] - 0s 23ms/step - loss: 2.5731 - precision: 0.0000e+00 - recall: 0.0000e+00 - accuracy: 0.3800 - val_loss: 2.6073 - val_precision: 0.0000e+00 - val_recall: 0.0000e+00 - val_accuracy: 0.1667\n",
      "Epoch 17/80\n",
      "4/4 [==============================] - 0s 26ms/step - loss: 2.5615 - precision: 0.0000e+00 - recall: 0.0000e+00 - accuracy: 0.4000 - val_loss: 2.6012 - val_precision: 0.0000e+00 - val_recall: 0.0000e+00 - val_accuracy: 0.1667\n",
      "Epoch 18/80\n",
      "4/4 [==============================] - 0s 24ms/step - loss: 2.5462 - precision: 0.0000e+00 - recall: 0.0000e+00 - accuracy: 0.3700 - val_loss: 2.5927 - val_precision: 0.0000e+00 - val_recall: 0.0000e+00 - val_accuracy: 0.1667\n",
      "Epoch 19/80\n",
      "4/4 [==============================] - 0s 26ms/step - loss: 2.5274 - precision: 0.0000e+00 - recall: 0.0000e+00 - accuracy: 0.3700 - val_loss: 2.5813 - val_precision: 0.0000e+00 - val_recall: 0.0000e+00 - val_accuracy: 0.1667\n",
      "Epoch 20/80\n",
      "4/4 [==============================] - 0s 26ms/step - loss: 2.5032 - precision: 0.0000e+00 - recall: 0.0000e+00 - accuracy: 0.3700 - val_loss: 2.5666 - val_precision: 0.0000e+00 - val_recall: 0.0000e+00 - val_accuracy: 0.1667\n",
      "Epoch 21/80\n",
      "4/4 [==============================] - 0s 26ms/step - loss: 2.4674 - precision: 0.0000e+00 - recall: 0.0000e+00 - accuracy: 0.3800 - val_loss: 2.5475 - val_precision: 0.0000e+00 - val_recall: 0.0000e+00 - val_accuracy: 0.1667\n",
      "Epoch 22/80\n",
      "4/4 [==============================] - 0s 23ms/step - loss: 2.4076 - precision: 0.0000e+00 - recall: 0.0000e+00 - accuracy: 0.3600 - val_loss: 2.5225 - val_precision: 0.0000e+00 - val_recall: 0.0000e+00 - val_accuracy: 0.1667\n",
      "Epoch 23/80\n",
      "4/4 [==============================] - 0s 25ms/step - loss: 2.3059 - precision: 1.0000 - recall: 0.0100 - accuracy: 0.3400 - val_loss: 2.5287 - val_precision: 0.0000e+00 - val_recall: 0.0000e+00 - val_accuracy: 0.1667\n",
      "Epoch 24/80\n",
      "4/4 [==============================] - 0s 27ms/step - loss: 2.1776 - precision: 1.0000 - recall: 0.0800 - accuracy: 0.3400 - val_loss: 2.8262 - val_precision: 0.0000e+00 - val_recall: 0.0000e+00 - val_accuracy: 0.2500\n",
      "Epoch 25/80\n",
      "4/4 [==============================] - 0s 25ms/step - loss: 2.1558 - precision: 0.8462 - recall: 0.1100 - accuracy: 0.3400 - val_loss: 3.1344 - val_precision: 0.0000e+00 - val_recall: 0.0000e+00 - val_accuracy: 0.2500\n",
      "Epoch 26/80\n",
      "4/4 [==============================] - 0s 25ms/step - loss: 2.0787 - precision: 0.7778 - recall: 0.1400 - accuracy: 0.3500 - val_loss: 2.7249 - val_precision: 0.0000e+00 - val_recall: 0.0000e+00 - val_accuracy: 0.2500\n",
      "Epoch 27/80\n",
      "4/4 [==============================] - 0s 26ms/step - loss: 1.9860 - precision: 1.0000 - recall: 0.1400 - accuracy: 0.3900 - val_loss: 2.2836 - val_precision: 1.0000 - val_recall: 0.0833 - val_accuracy: 0.3333\n",
      "Epoch 28/80\n",
      "4/4 [==============================] - 0s 33ms/step - loss: 1.9310 - precision: 1.0000 - recall: 0.1500 - accuracy: 0.3700 - val_loss: 2.2240 - val_precision: 1.0000 - val_recall: 0.0833 - val_accuracy: 0.3333\n",
      "Epoch 29/80\n",
      "4/4 [==============================] - 0s 26ms/step - loss: 2.0030 - precision: 0.8824 - recall: 0.1500 - accuracy: 0.4000 - val_loss: 2.2447 - val_precision: 1.0000 - val_recall: 0.0833 - val_accuracy: 0.3333\n",
      "Epoch 30/80\n",
      "4/4 [==============================] - 0s 24ms/step - loss: 1.8626 - precision: 0.9412 - recall: 0.1600 - accuracy: 0.4300 - val_loss: 2.3218 - val_precision: 0.0000e+00 - val_recall: 0.0000e+00 - val_accuracy: 0.2500\n",
      "Epoch 31/80\n",
      "4/4 [==============================] - 0s 24ms/step - loss: 1.8347 - precision: 0.9444 - recall: 0.1700 - accuracy: 0.4500 - val_loss: 2.4373 - val_precision: 0.0000e+00 - val_recall: 0.0000e+00 - val_accuracy: 0.2500\n",
      "Epoch 32/80\n",
      "4/4 [==============================] - 0s 23ms/step - loss: 1.8064 - precision: 0.9444 - recall: 0.1700 - accuracy: 0.4700 - val_loss: 2.5606 - val_precision: 0.0000e+00 - val_recall: 0.0000e+00 - val_accuracy: 0.2500\n",
      "Epoch 33/80\n",
      "4/4 [==============================] - 0s 25ms/step - loss: 1.7763 - precision: 0.9444 - recall: 0.1700 - accuracy: 0.4800 - val_loss: 2.6285 - val_precision: 0.0000e+00 - val_recall: 0.0000e+00 - val_accuracy: 0.2500\n",
      "Epoch 34/80\n",
      "4/4 [==============================] - 0s 26ms/step - loss: 1.7431 - precision: 0.9444 - recall: 0.1700 - accuracy: 0.5000 - val_loss: 2.6287 - val_precision: 0.0000e+00 - val_recall: 0.0000e+00 - val_accuracy: 0.2500\n",
      "Epoch 35/80\n",
      "4/4 [==============================] - 0s 24ms/step - loss: 1.7051 - precision: 0.9444 - recall: 0.1700 - accuracy: 0.5100 - val_loss: 2.5059 - val_precision: 0.0000e+00 - val_recall: 0.0000e+00 - val_accuracy: 0.2500\n",
      "Epoch 36/80\n",
      "4/4 [==============================] - 0s 27ms/step - loss: 1.6673 - precision: 0.9500 - recall: 0.1900 - accuracy: 0.5300 - val_loss: 2.2842 - val_precision: 0.0000e+00 - val_recall: 0.0000e+00 - val_accuracy: 0.2500\n",
      "Epoch 37/80\n",
      "4/4 [==============================] - 0s 29ms/step - loss: 1.6274 - precision: 0.9500 - recall: 0.1900 - accuracy: 0.5400 - val_loss: 2.1490 - val_precision: 1.0000 - val_recall: 0.0833 - val_accuracy: 0.3333\n",
      "Epoch 38/80\n",
      "4/4 [==============================] - 0s 33ms/step - loss: 1.5857 - precision: 0.9545 - recall: 0.2100 - accuracy: 0.5400 - val_loss: 2.1041 - val_precision: 1.0000 - val_recall: 0.0833 - val_accuracy: 0.3333\n",
      "Epoch 39/80\n",
      "4/4 [==============================] - 0s 26ms/step - loss: 1.5406 - precision: 0.9231 - recall: 0.2400 - accuracy: 0.5600 - val_loss: 2.0798 - val_precision: 1.0000 - val_recall: 0.0833 - val_accuracy: 0.3333\n",
      "Epoch 40/80\n",
      "4/4 [==============================] - 0s 24ms/step - loss: 1.4974 - precision: 0.9231 - recall: 0.2400 - accuracy: 0.5600 - val_loss: 2.0573 - val_precision: 1.0000 - val_recall: 0.0833 - val_accuracy: 0.3333\n",
      "Epoch 41/80\n",
      "4/4 [==============================] - 0s 28ms/step - loss: 1.4546 - precision: 0.9231 - recall: 0.2400 - accuracy: 0.5500 - val_loss: 2.0434 - val_precision: 1.0000 - val_recall: 0.0833 - val_accuracy: 0.3333\n",
      "Epoch 42/80\n",
      "4/4 [==============================] - 0s 26ms/step - loss: 1.4140 - precision: 0.9259 - recall: 0.2500 - accuracy: 0.5500 - val_loss: 2.0318 - val_precision: 1.0000 - val_recall: 0.1667 - val_accuracy: 0.3333\n",
      "Epoch 43/80\n",
      "4/4 [==============================] - 0s 26ms/step - loss: 1.3683 - precision: 0.9615 - recall: 0.2500 - accuracy: 0.5500 - val_loss: 2.0245 - val_precision: 1.0000 - val_recall: 0.1667 - val_accuracy: 0.3333\n",
      "Epoch 44/80\n",
      "4/4 [==============================] - 0s 27ms/step - loss: 1.3173 - precision: 1.0000 - recall: 0.2800 - accuracy: 0.5600 - val_loss: 2.0127 - val_precision: 1.0000 - val_recall: 0.1667 - val_accuracy: 0.3333\n",
      "Epoch 45/80\n",
      "4/4 [==============================] - 0s 26ms/step - loss: 1.2660 - precision: 0.9667 - recall: 0.2900 - accuracy: 0.5900 - val_loss: 2.0131 - val_precision: 1.0000 - val_recall: 0.1667 - val_accuracy: 0.3333\n",
      "Epoch 46/80\n",
      "4/4 [==============================] - 0s 27ms/step - loss: 1.2201 - precision: 0.9697 - recall: 0.3200 - accuracy: 0.6400 - val_loss: 2.0122 - val_precision: 1.0000 - val_recall: 0.1667 - val_accuracy: 0.3333\n",
      "Epoch 47/80\n",
      "4/4 [==============================] - 0s 28ms/step - loss: 1.1741 - precision: 0.9714 - recall: 0.3400 - accuracy: 0.6700 - val_loss: 1.9960 - val_precision: 1.0000 - val_recall: 0.1667 - val_accuracy: 0.3333\n",
      "Epoch 48/80\n",
      "4/4 [==============================] - 0s 25ms/step - loss: 1.1346 - precision: 0.9250 - recall: 0.3700 - accuracy: 0.6800 - val_loss: 2.5400 - val_precision: 0.5000 - val_recall: 0.0833 - val_accuracy: 0.3333\n",
      "Epoch 49/80\n",
      "4/4 [==============================] - 0s 26ms/step - loss: 1.0987 - precision: 0.9091 - recall: 0.4000 - accuracy: 0.7000 - val_loss: 3.3213 - val_precision: 0.5000 - val_recall: 0.0833 - val_accuracy: 0.4167\n",
      "Epoch 50/80\n",
      "4/4 [==============================] - 0s 42ms/step - loss: 1.0576 - precision: 0.9091 - recall: 0.4000 - accuracy: 0.7200 - val_loss: 2.3235 - val_precision: 0.5000 - val_recall: 0.0833 - val_accuracy: 0.4167\n",
      "Epoch 51/80\n",
      "4/4 [==============================] - 0s 27ms/step - loss: 0.9976 - precision: 0.9318 - recall: 0.4100 - accuracy: 0.7500 - val_loss: 1.9515 - val_precision: 1.0000 - val_recall: 0.1667 - val_accuracy: 0.5000\n",
      "Epoch 52/80\n",
      "4/4 [==============================] - 0s 24ms/step - loss: 0.9485 - precision: 0.9318 - recall: 0.4100 - accuracy: 0.7800 - val_loss: 1.9337 - val_precision: 1.0000 - val_recall: 0.1667 - val_accuracy: 0.5000\n",
      "Epoch 53/80\n",
      "4/4 [==============================] - 0s 23ms/step - loss: 0.9093 - precision: 0.9184 - recall: 0.4500 - accuracy: 0.7900 - val_loss: 1.9322 - val_precision: 1.0000 - val_recall: 0.1667 - val_accuracy: 0.5000\n",
      "Epoch 54/80\n",
      "4/4 [==============================] - 0s 26ms/step - loss: 0.8672 - precision: 0.9423 - recall: 0.4900 - accuracy: 0.8200 - val_loss: 1.9765 - val_precision: 1.0000 - val_recall: 0.1667 - val_accuracy: 0.5000\n",
      "Epoch 55/80\n",
      "4/4 [==============================] - 0s 26ms/step - loss: 0.8248 - precision: 0.9444 - recall: 0.5100 - accuracy: 0.8200 - val_loss: 2.0302 - val_precision: 1.0000 - val_recall: 0.1667 - val_accuracy: 0.5000\n",
      "Epoch 56/80\n",
      "4/4 [==============================] - 0s 24ms/step - loss: 0.7814 - precision: 0.9298 - recall: 0.5300 - accuracy: 0.8200 - val_loss: 2.0597 - val_precision: 1.0000 - val_recall: 0.1667 - val_accuracy: 0.5000\n",
      "Epoch 57/80\n",
      "4/4 [==============================] - 0s 25ms/step - loss: 0.7457 - precision: 0.9298 - recall: 0.5300 - accuracy: 0.8100 - val_loss: 2.1103 - val_precision: 0.7500 - val_recall: 0.2500 - val_accuracy: 0.5000\n",
      "Epoch 58/80\n",
      "4/4 [==============================] - 0s 24ms/step - loss: 0.7057 - precision: 0.9333 - recall: 0.5600 - accuracy: 0.8100 - val_loss: 2.1603 - val_precision: 0.7500 - val_recall: 0.2500 - val_accuracy: 0.5000\n",
      "Epoch 59/80\n",
      "4/4 [==============================] - 0s 24ms/step - loss: 0.6691 - precision: 0.9206 - recall: 0.5800 - accuracy: 0.8000 - val_loss: 2.2067 - val_precision: 0.7500 - val_recall: 0.2500 - val_accuracy: 0.5000\n",
      "Epoch 60/80\n",
      "4/4 [==============================] - 0s 26ms/step - loss: 0.6294 - precision: 0.9219 - recall: 0.5900 - accuracy: 0.8200 - val_loss: 2.2559 - val_precision: 0.7500 - val_recall: 0.2500 - val_accuracy: 0.5000\n",
      "Epoch 61/80\n",
      "4/4 [==============================] - 0s 26ms/step - loss: 0.5950 - precision: 0.9365 - recall: 0.5900 - accuracy: 0.8300 - val_loss: 2.3015 - val_precision: 0.7500 - val_recall: 0.2500 - val_accuracy: 0.5000\n",
      "Epoch 62/80\n",
      "4/4 [==============================] - 0s 28ms/step - loss: 0.5591 - precision: 0.9375 - recall: 0.6000 - accuracy: 0.8800 - val_loss: 2.3786 - val_precision: 0.8000 - val_recall: 0.3333 - val_accuracy: 0.5000\n",
      "Epoch 63/80\n",
      "4/4 [==============================] - 0s 26ms/step - loss: 0.5249 - precision: 0.9714 - recall: 0.6800 - accuracy: 0.8800 - val_loss: 2.5355 - val_precision: 0.6667 - val_recall: 0.3333 - val_accuracy: 0.5000\n",
      "Epoch 64/80\n",
      "4/4 [==============================] - 0s 26ms/step - loss: 0.4966 - precision: 0.9722 - recall: 0.7000 - accuracy: 0.9000 - val_loss: 2.6310 - val_precision: 0.6667 - val_recall: 0.3333 - val_accuracy: 0.5000\n",
      "Epoch 65/80\n",
      "4/4 [==============================] - 0s 29ms/step - loss: 0.4553 - precision: 0.9737 - recall: 0.7400 - accuracy: 0.9200 - val_loss: 2.8133 - val_precision: 0.5714 - val_recall: 0.3333 - val_accuracy: 0.5000\n",
      "Epoch 66/80\n",
      "4/4 [==============================] - 0s 30ms/step - loss: 0.4257 - precision: 0.9870 - recall: 0.7600 - accuracy: 0.9300 - val_loss: 2.8340 - val_precision: 0.7143 - val_recall: 0.4167 - val_accuracy: 0.5833\n",
      "Epoch 67/80\n",
      "4/4 [==============================] - 0s 29ms/step - loss: 0.4003 - precision: 0.9872 - recall: 0.7700 - accuracy: 0.9600 - val_loss: 2.9831 - val_precision: 0.7143 - val_recall: 0.4167 - val_accuracy: 0.5833\n",
      "Epoch 68/80\n",
      "4/4 [==============================] - 0s 25ms/step - loss: 0.3722 - precision: 0.9875 - recall: 0.7900 - accuracy: 0.9700 - val_loss: 3.1561 - val_precision: 0.5714 - val_recall: 0.3333 - val_accuracy: 0.5000\n",
      "Epoch 69/80\n",
      "4/4 [==============================] - 0s 27ms/step - loss: 0.3405 - precision: 0.9878 - recall: 0.8100 - accuracy: 0.9700 - val_loss: 4.4546 - val_precision: 0.5714 - val_recall: 0.3333 - val_accuracy: 0.5000\n",
      "Epoch 70/80\n",
      "4/4 [==============================] - 0s 25ms/step - loss: 0.3153 - precision: 1.0000 - recall: 0.8300 - accuracy: 0.9800 - val_loss: 4.8228 - val_precision: 0.5000 - val_recall: 0.2500 - val_accuracy: 0.5000\n",
      "Epoch 71/80\n",
      "4/4 [==============================] - 0s 32ms/step - loss: 0.2982 - precision: 1.0000 - recall: 0.8500 - accuracy: 0.9800 - val_loss: 5.0398 - val_precision: 0.4286 - val_recall: 0.2500 - val_accuracy: 0.4167\n",
      "Epoch 72/80\n",
      "4/4 [==============================] - 0s 28ms/step - loss: 0.2720 - precision: 1.0000 - recall: 0.8900 - accuracy: 0.9800 - val_loss: 5.6744 - val_precision: 0.5714 - val_recall: 0.3333 - val_accuracy: 0.5000\n",
      "Epoch 73/80\n",
      "4/4 [==============================] - 0s 31ms/step - loss: 0.2606 - precision: 0.9886 - recall: 0.8700 - accuracy: 0.9700 - val_loss: 6.4004 - val_precision: 0.5714 - val_recall: 0.3333 - val_accuracy: 0.5000\n",
      "Epoch 74/80\n",
      "4/4 [==============================] - 0s 26ms/step - loss: 0.2515 - precision: 0.9886 - recall: 0.8700 - accuracy: 0.9600 - val_loss: 6.9200 - val_precision: 0.5000 - val_recall: 0.3333 - val_accuracy: 0.4167\n",
      "Epoch 75/80\n",
      "4/4 [==============================] - 0s 25ms/step - loss: 0.2298 - precision: 0.9888 - recall: 0.8800 - accuracy: 0.9700 - val_loss: 7.9657 - val_precision: 0.5000 - val_recall: 0.3333 - val_accuracy: 0.4167\n",
      "Epoch 76/80\n",
      "4/4 [==============================] - 0s 24ms/step - loss: 0.2090 - precision: 1.0000 - recall: 0.9500 - accuracy: 0.9800 - val_loss: 9.4141 - val_precision: 0.5714 - val_recall: 0.3333 - val_accuracy: 0.4167\n",
      "Epoch 77/80\n",
      "4/4 [==============================] - 0s 24ms/step - loss: 0.1980 - precision: 1.0000 - recall: 0.9500 - accuracy: 0.9800 - val_loss: 10.0870 - val_precision: 0.5000 - val_recall: 0.3333 - val_accuracy: 0.4167\n",
      "Epoch 78/80\n",
      "4/4 [==============================] - 0s 26ms/step - loss: 0.1865 - precision: 1.0000 - recall: 0.9500 - accuracy: 0.9800 - val_loss: 8.5941 - val_precision: 0.5000 - val_recall: 0.3333 - val_accuracy: 0.4167\n",
      "Epoch 79/80\n",
      "4/4 [==============================] - 0s 32ms/step - loss: 0.5403 - precision: 0.9684 - recall: 0.9200 - accuracy: 0.9500 - val_loss: 15.6275 - val_precision: 0.4444 - val_recall: 0.3333 - val_accuracy: 0.3333\n",
      "Epoch 80/80\n",
      "4/4 [==============================] - 0s 27ms/step - loss: 0.8787 - precision: 0.9688 - recall: 0.9300 - accuracy: 0.9500 - val_loss: 4.7475 - val_precision: 0.7000 - val_recall: 0.5833 - val_accuracy: 0.5833\n"
     ]
    }
   ],
   "source": [
    "lstm_history = lstm_model.fit(X_train, y_train_encoded, batch_size=BATCH_SIZE, epochs=EPOCHS, verbose=1, validation_split=VAL_SPLIT)"
   ]
  },
  {
   "cell_type": "markdown",
   "id": "aac558e1-89ea-4ad0-a3a3-987feef13d87",
   "metadata": {},
   "source": [
    "## Model Evaluation"
   ]
  },
  {
   "cell_type": "code",
   "execution_count": 27,
   "id": "42fc2af5-42a7-464b-8d83-d2ccc0df1499",
   "metadata": {},
   "outputs": [
    {
     "name": "stdout",
     "output_type": "stream",
     "text": [
      "1/1 [==============================] - 0s 29ms/step - loss: 8.9647 - precision: 0.7308 - recall: 0.6786 - accuracy: 0.6786\n"
     ]
    }
   ],
   "source": [
    "lstm_score = lstm_model.evaluate(X_test, y_test_encoded, batch_size=BATCH_SIZE, verbose=1)"
   ]
  },
  {
   "cell_type": "markdown",
   "id": "778b3581-16c1-4f0c-b82f-a4743d3162f3",
   "metadata": {},
   "source": [
    "## Analysis  \n",
    "With an Epoch of 30 it seems like the model performed better i.e giving the model more training time it performed better   \n",
    "\n",
    "### High Precision and High Accuracy:   \n",
    "These indicate that your model is very accurate in its predictions overall and particularly effective at making correct positive predictions.\n",
    "Good but Not Perfect Recall: While 0.89 recall is high, it shows that the model misses 11% of the actual positive instances."
   ]
  },
  {
   "cell_type": "code",
   "execution_count": 28,
   "id": "9655446a-5da3-44e1-b6e9-7d5ac65a2aa0",
   "metadata": {},
   "outputs": [],
   "source": [
    "from sklearn import metrics  "
   ]
  },
  {
   "cell_type": "code",
   "execution_count": 29,
   "id": "7697d68a-2336-478c-b8a3-0fa8e7ee3eb5",
   "metadata": {},
   "outputs": [
    {
     "name": "stdout",
     "output_type": "stream",
     "text": [
      "1/1 [==============================] - 0s 209ms/step\n",
      "                    precision    recall  f1-score   support\n",
      "\n",
      "      accessStores       1.00      0.50      0.67         2\n",
      "         addToCart       0.67      1.00      0.80         2\n",
      " cancelReservation       1.00      1.00      1.00         2\n",
      "    contactSupport       1.00      0.50      0.67         2\n",
      "getRecommendations       1.00      0.50      0.67         2\n",
      "   getStoreDetails       1.00      0.50      0.67         2\n",
      "   makeReservation       1.00      0.50      0.67         2\n",
      "          purchase       0.00      0.00      0.00         2\n",
      "    removeFromCart       0.50      0.50      0.50         2\n",
      "     searchProduct       0.67      1.00      0.80         2\n",
      "        trackOrder       0.50      1.00      0.67         2\n",
      "     updateProfile       0.67      1.00      0.80         2\n",
      "          viewCart       1.00      1.00      1.00         2\n",
      " viewStoreProducts       0.25      0.50      0.33         2\n",
      "\n",
      "          accuracy                           0.68        28\n",
      "         macro avg       0.73      0.68      0.66        28\n",
      "      weighted avg       0.73      0.68      0.66        28\n",
      "\n"
     ]
    },
    {
     "name": "stderr",
     "output_type": "stream",
     "text": [
      "C:\\Users\\mikos\\AppData\\Local\\Packages\\PythonSoftwareFoundation.Python.3.10_qbz5n2kfra8p0\\LocalCache\\local-packages\\Python310\\site-packages\\sklearn\\metrics\\_classification.py:1471: UndefinedMetricWarning: Precision and F-score are ill-defined and being set to 0.0 in labels with no predicted samples. Use `zero_division` parameter to control this behavior.\n",
      "  _warn_prf(average, modifier, msg_start, len(result))\n",
      "C:\\Users\\mikos\\AppData\\Local\\Packages\\PythonSoftwareFoundation.Python.3.10_qbz5n2kfra8p0\\LocalCache\\local-packages\\Python310\\site-packages\\sklearn\\metrics\\_classification.py:1471: UndefinedMetricWarning: Precision and F-score are ill-defined and being set to 0.0 in labels with no predicted samples. Use `zero_division` parameter to control this behavior.\n",
      "  _warn_prf(average, modifier, msg_start, len(result))\n",
      "C:\\Users\\mikos\\AppData\\Local\\Packages\\PythonSoftwareFoundation.Python.3.10_qbz5n2kfra8p0\\LocalCache\\local-packages\\Python310\\site-packages\\sklearn\\metrics\\_classification.py:1471: UndefinedMetricWarning: Precision and F-score are ill-defined and being set to 0.0 in labels with no predicted samples. Use `zero_division` parameter to control this behavior.\n",
      "  _warn_prf(average, modifier, msg_start, len(result))\n"
     ]
    }
   ],
   "source": [
    "y_pred_labels_lstm = [encoder.classes_[x] for x in np.argmax(lstm_model.predict(X_test), axis=-1)]\n",
    "print(metrics.classification_report(y_test, y_pred_labels_lstm))"
   ]
  },
  {
   "cell_type": "code",
   "execution_count": null,
   "id": "53ba161f-06fa-4f29-ac5e-8f00086c42a5",
   "metadata": {},
   "outputs": [],
   "source": []
  },
  {
   "cell_type": "markdown",
   "id": "f9ef5e59-6442-4af3-af93-6fc29d28302a",
   "metadata": {},
   "source": [
    "## Using the model"
   ]
  },
  {
   "cell_type": "code",
   "execution_count": 31,
   "id": "6e6fc4e9-0ce5-4650-9a42-c596cc1bde7b",
   "metadata": {},
   "outputs": [],
   "source": [
    "# sentence = \"I am travelling fresnosoon how do I let people know\"\n",
    "# sentence = \"how do i whisper\"\n",
    "\n",
    "sentence = \"Help me find me Ankara dress\"\n",
    "input_seq = tokenizer.texts_to_sequences([sentence])\n",
    "input_features = pad_sequences(input_seq, maxlen = MAX_SEQ_LEN, padding = 'post')"
   ]
  },
  {
   "cell_type": "code",
   "execution_count": 51,
   "id": "82ec4152-9eb4-464b-a3d1-ba5c1f76fb5e",
   "metadata": {},
   "outputs": [
    {
     "name": "stdout",
     "output_type": "stream",
     "text": [
      "1/1 [==============================] - 0s 33ms/step\n",
      "getRecommendations\n"
     ]
    }
   ],
   "source": [
    "#Predict the label\n",
    "probs = lstm_model.predict(input_features)\n",
    "predicted_y = probs.argmax(axis=-1)\n",
    "print(encoder.classes_[predicted_y][0])"
   ]
  },
  {
   "cell_type": "code",
   "execution_count": 56,
   "id": "f9fb2fe5-ae93-4a65-979e-48e2f3514c0b",
   "metadata": {},
   "outputs": [],
   "source": [
    "# sentence = \"I am travelling fresnosoon how do I let people know\"\n",
    "# sentence = \"how do i whisper\"\n",
    "sentence = \"Tell me about lagos essentials\"\n",
    "input_seq = tokenizer.texts_to_sequences([sentence])\n",
    "input_features = pad_sequences(input_seq, maxlen = MAX_SEQ_LEN, padding = 'post')"
   ]
  },
  {
   "cell_type": "code",
   "execution_count": 50,
   "id": "65a8d968-59ff-480e-80de-9371e881257e",
   "metadata": {},
   "outputs": [],
   "source": [
    "# sentence = \"I am travelling fresnosoon how do I let people know\"\n",
    "# sentence = \"how do i whisper\"\n",
    "\n",
    "sentence = \"any suggestions?\"\n",
    "input_seq = tokenizer.texts_to_sequences([sentence])\n",
    "input_features = pad_sequences(input_seq, maxlen = MAX_SEQ_LEN, padding = 'post')"
   ]
  },
  {
   "cell_type": "code",
   "execution_count": null,
   "id": "c87b58c0-6133-46a0-8e77-fdaf50ff74f4",
   "metadata": {},
   "outputs": [],
   "source": [
    "# def make_reservation(fname, lname):\n",
    "#   print(\"reservation made for \"+ fname + \" \" + lname)"
   ]
  },
  {
   "cell_type": "code",
   "execution_count": null,
   "id": "ef578689-f2c6-48b7-8660-68f2a85f9eb1",
   "metadata": {},
   "outputs": [],
   "source": [
    "# if encoder.classes_[predicted_y][0] == \"restaurant_reservation\":\n",
    "#     make_reservation(\"Michael\", \"Osuntuyi\")\n",
    "\n",
    "\n"
   ]
  },
  {
   "cell_type": "markdown",
   "id": "fa7bd8a1-a0d1-4c57-8239-8f998d83efaf",
   "metadata": {},
   "source": [
    "### Exporting model for use in Web Application  \n",
    "This was exported using tensorflow savedmodel rather than HDF5 format due to tensorflow having the ability to be used in C# and Java"
   ]
  },
  {
   "cell_type": "code",
   "execution_count": 52,
   "id": "90f46320-cf8a-4469-8e4b-ad07b4415631",
   "metadata": {},
   "outputs": [
    {
     "name": "stdout",
     "output_type": "stream",
     "text": [
      "INFO:tensorflow:Assets written to: intent_recognition_model\\assets\n"
     ]
    },
    {
     "name": "stderr",
     "output_type": "stream",
     "text": [
      "INFO:tensorflow:Assets written to: intent_recognition_model\\assets\n"
     ]
    }
   ],
   "source": [
    "lstm_model.save('intent_recognition_model') "
   ]
  },
  {
   "cell_type": "markdown",
   "id": "fc207ee2-1f0f-4a25-94e0-da8cff2a80f5",
   "metadata": {},
   "source": [
    "### Load and test model"
   ]
  },
  {
   "cell_type": "code",
   "execution_count": 53,
   "id": "b8cfb59a-3e53-4ef6-81fd-e950cc7dc8d4",
   "metadata": {},
   "outputs": [],
   "source": [
    "from tensorflow.keras.models import load_model"
   ]
  },
  {
   "cell_type": "code",
   "execution_count": 54,
   "id": "4cd92050-37b2-41b0-8a1f-e21a6af26372",
   "metadata": {},
   "outputs": [],
   "source": [
    "model = load_model('intent_recognition_model') "
   ]
  },
  {
   "cell_type": "code",
   "execution_count": 57,
   "id": "a15519ac-148e-4649-8cc1-004ce151339c",
   "metadata": {},
   "outputs": [
    {
     "name": "stdout",
     "output_type": "stream",
     "text": [
      "1/1 [==============================] - 0s 36ms/step\n",
      "getStoreDetails\n"
     ]
    }
   ],
   "source": [
    "probs2 = model.predict(input_features)\n",
    "\n",
    "predicted_y2 = probs2.argmax(axis=-1)\n",
    "print(encoder.classes_[predicted_y2][0])"
   ]
  }
 ],
 "metadata": {
  "kernelspec": {
   "display_name": "Python 3 (ipykernel)",
   "language": "python",
   "name": "python3"
  },
  "language_info": {
   "codemirror_mode": {
    "name": "ipython",
    "version": 3
   },
   "file_extension": ".py",
   "mimetype": "text/x-python",
   "name": "python",
   "nbconvert_exporter": "python",
   "pygments_lexer": "ipython3",
   "version": "3.10.11"
  }
 },
 "nbformat": 4,
 "nbformat_minor": 5
}
