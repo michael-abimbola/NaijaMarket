{
 "cells": [
  {
   "cell_type": "markdown",
   "id": "d51b69b0-838e-44ff-9156-41846bbc361f",
   "metadata": {},
   "source": [
    "### Entity Recognition"
   ]
  },
  {
   "cell_type": "code",
   "execution_count": 1,
   "id": "2616082b-279f-47b9-9366-05e00301842e",
   "metadata": {},
   "outputs": [],
   "source": [
    "# Loading trained NER model\n",
    "import spacy\n",
    "nlp_ner = spacy.load(\"model-best\")"
   ]
  },
  {
   "cell_type": "code",
   "execution_count": 2,
   "id": "1bb5c986-7ec0-4cae-bf1e-55174be99f2d",
   "metadata": {},
   "outputs": [],
   "source": [
    "# Giving model the sentence for finding entities\n",
    "doc = nlp_ner(\"I want to buy Garri from Mama Nkechi’s Groceries\")"
   ]
  },
  {
   "cell_type": "code",
   "execution_count": 3,
   "id": "d0afb56f-6056-4044-afd4-c59c3102ea4a",
   "metadata": {},
   "outputs": [
    {
     "data": {
      "text/html": [
       "<span class=\"tex2jax_ignore\"><div class=\"entities\" style=\"line-height: 2.5; direction: ltr\">\n",
       "<mark class=\"entity\" style=\"background: #ddd; padding: 0.45em 0.6em; margin: 0 0.25em; line-height: 1; border-radius: 0.35em;\">\n",
       "    I want to\n",
       "    <span style=\"font-size: 0.8em; font-weight: bold; line-height: 1; border-radius: 0.35em; vertical-align: middle; margin-left: 0.5rem\">issue</span>\n",
       "</mark>\n",
       " buy \n",
       "<mark class=\"entity\" style=\"background: #bfeeb7; padding: 0.45em 0.6em; margin: 0 0.25em; line-height: 1; border-radius: 0.35em;\">\n",
       "    Garri\n",
       "    <span style=\"font-size: 0.8em; font-weight: bold; line-height: 1; border-radius: 0.35em; vertical-align: middle; margin-left: 0.5rem\">product</span>\n",
       "</mark>\n",
       " from \n",
       "<mark class=\"entity\" style=\"background: #ddd; padding: 0.45em 0.6em; margin: 0 0.25em; line-height: 1; border-radius: 0.35em;\">\n",
       "    Mama Nkechi’s Groceries\n",
       "    <span style=\"font-size: 0.8em; font-weight: bold; line-height: 1; border-radius: 0.35em; vertical-align: middle; margin-left: 0.5rem\">store</span>\n",
       "</mark>\n",
       "</div></span>"
      ],
      "text/plain": [
       "<IPython.core.display.HTML object>"
      ]
     },
     "metadata": {},
     "output_type": "display_data"
    }
   ],
   "source": [
    "# Using spacy displacy to render entities visiually\n",
    "spacy.displacy.render(doc, style=\"ent\")"
   ]
  },
  {
   "cell_type": "markdown",
   "id": "3e7945a5-9b63-436c-a2c3-587080c6784e",
   "metadata": {},
   "source": [
    "### Intent Recognition"
   ]
  },
  {
   "cell_type": "markdown",
   "id": "f9713db3-c273-491e-a110-6069d60b70b8",
   "metadata": {},
   "source": [
    "#### Tokenizer and Input Sentence"
   ]
  },
  {
   "cell_type": "code",
   "execution_count": 4,
   "id": "a5e4454f-36db-4ed2-9a55-5cec7b65cb19",
   "metadata": {},
   "outputs": [],
   "source": [
    "# Import necessary libraries for to\n",
    "from tensorflow.keras.preprocessing.sequence import pad_sequences"
   ]
  },
  {
   "cell_type": "code",
   "execution_count": 5,
   "id": "02e8064f-ae08-46e8-92e0-7ddd49282021",
   "metadata": {},
   "outputs": [],
   "source": [
    "# Import saved tokenizer that's been trained on the input data\n",
    "import pickle\n",
    "with open('tokenizer.pickle', 'rb') as handle:\n",
    "    tokenizer_import = pickle.load(handle)"
   ]
  },
  {
   "cell_type": "code",
   "execution_count": 6,
   "id": "b9bff898-b2b6-4e76-8932-4e522659cb7d",
   "metadata": {},
   "outputs": [],
   "source": [
    "# Import saved encoder that's been trained on the output data\n",
    "with open('label_encoder.pickle', 'rb') as f:\n",
    "    encoder_import = pickle.load(f)"
   ]
  },
  {
   "cell_type": "code",
   "execution_count": 7,
   "id": "c08cd5be-c30b-4426-ad31-01b14040b5ad",
   "metadata": {},
   "outputs": [],
   "source": [
    "# use tokenizer and padding to convert the input sentence into a readable format for the A.i \n",
    "import numpy as np\n",
    "def prepare_sentence (sentence: str, max_seq_len: int = 35)-> np.ndarray:\n",
    "    input_seq = tokenizer_import.texts_to_sequences([sentence])\n",
    "    input_features = pad_sequences(input_seq, maxlen = max_seq_len, padding = 'post')\n",
    "    return input_features"
   ]
  },
  {
   "cell_type": "code",
   "execution_count": 8,
   "id": "9697fe38-d2f9-41c5-a460-d5f707b35d84",
   "metadata": {},
   "outputs": [],
   "source": [
    "# # use tokenizer and padding to convert the input sentence into a readable format for the A.i \n",
    "# MAX_SEQ_LEN = 35\n",
    "\n",
    "# sentence = \"any suggestions?\"\n",
    "# input_seq = tokenizer_import.texts_to_sequences([sentence])\n",
    "# input_features = pad_sequences(input_seq, maxlen = MAX_SEQ_LEN, padding = 'post')"
   ]
  },
  {
   "cell_type": "code",
   "execution_count": 9,
   "id": "8922d8f5-bb32-49c5-a6c2-0cd6c499a254",
   "metadata": {},
   "outputs": [],
   "source": [
    "# sentence = \"any suggestions?\"\n",
    "# input_seq = tokenizer_import.texts_to_sequences([sentence])\n",
    "# input_features = pad_sequences(input_seq, maxlen = MAX_SEQ_LEN, padding = 'post')"
   ]
  },
  {
   "cell_type": "markdown",
   "id": "52d68232-2f8f-41ea-ae25-0f00c85704f7",
   "metadata": {},
   "source": [
    "#### Model and Tokenised sentence"
   ]
  },
  {
   "cell_type": "code",
   "execution_count": 10,
   "id": "45f71ec8-70e2-4f01-a48f-67ff9bfdf35f",
   "metadata": {},
   "outputs": [],
   "source": [
    "# Import trained Intent recognition model-best\n",
    "from tensorflow.keras.models import load_model"
   ]
  },
  {
   "cell_type": "code",
   "execution_count": 11,
   "id": "297aa60f-bbc1-4c20-b8db-4a0218c66bf9",
   "metadata": {},
   "outputs": [],
   "source": [
    "model = load_model('intent_recognition_model') "
   ]
  },
  {
   "cell_type": "code",
   "execution_count": 12,
   "id": "fe1a456b-8794-488d-a830-b8c151231bb9",
   "metadata": {},
   "outputs": [
    {
     "name": "stdout",
     "output_type": "stream",
     "text": [
      "1/1 [==============================] - 0s 215ms/step\n",
      "getRecommendations\n"
     ]
    }
   ],
   "source": [
    "input_sentence = \"any suggestions?\"\n",
    "\n",
    "probs2 = model.predict(prepare_sentence(input_sentence))\n",
    "\n",
    "predicted_y2 = probs2.argmax(axis=-1)\n",
    "print(encoder_import.classes_[predicted_y2][0])"
   ]
  }
 ],
 "metadata": {
  "kernelspec": {
   "display_name": "Python 3 (ipykernel)",
   "language": "python",
   "name": "python3"
  },
  "language_info": {
   "codemirror_mode": {
    "name": "ipython",
    "version": 3
   },
   "file_extension": ".py",
   "mimetype": "text/x-python",
   "name": "python",
   "nbconvert_exporter": "python",
   "pygments_lexer": "ipython3",
   "version": "3.10.11"
  }
 },
 "nbformat": 4,
 "nbformat_minor": 5
}
