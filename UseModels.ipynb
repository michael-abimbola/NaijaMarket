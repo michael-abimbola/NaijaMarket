{
 "cells": [
  {
   "cell_type": "markdown",
   "id": "d51b69b0-838e-44ff-9156-41846bbc361f",
   "metadata": {},
   "source": [
    "### Entity Recognition"
   ]
  },
  {
   "cell_type": "code",
   "execution_count": 1,
   "id": "2616082b-279f-47b9-9366-05e00301842e",
   "metadata": {},
   "outputs": [],
   "source": [
    "# Loading trained NER model\n",
    "import spacy\n",
    "nlp_ner = spacy.load(\"model-best\")"
   ]
  },
  {
   "cell_type": "code",
   "execution_count": 2,
   "id": "1bb5c986-7ec0-4cae-bf1e-55174be99f2d",
   "metadata": {},
   "outputs": [],
   "source": [
    "# Giving model the sentence for finding entities\n",
    "doc = nlp_ner(\"I want to buy Garri from Mama Nkechi’s Groceries\")"
   ]
  },
  {
   "cell_type": "code",
   "execution_count": 3,
   "id": "d0afb56f-6056-4044-afd4-c59c3102ea4a",
   "metadata": {},
   "outputs": [
    {
     "data": {
      "text/html": [
       "<span class=\"tex2jax_ignore\"><div class=\"entities\" style=\"line-height: 2.5; direction: ltr\">\n",
       "<mark class=\"entity\" style=\"background: #ddd; padding: 0.45em 0.6em; margin: 0 0.25em; line-height: 1; border-radius: 0.35em;\">\n",
       "    I want to\n",
       "    <span style=\"font-size: 0.8em; font-weight: bold; line-height: 1; border-radius: 0.35em; vertical-align: middle; margin-left: 0.5rem\">issue</span>\n",
       "</mark>\n",
       " buy \n",
       "<mark class=\"entity\" style=\"background: #bfeeb7; padding: 0.45em 0.6em; margin: 0 0.25em; line-height: 1; border-radius: 0.35em;\">\n",
       "    Garri\n",
       "    <span style=\"font-size: 0.8em; font-weight: bold; line-height: 1; border-radius: 0.35em; vertical-align: middle; margin-left: 0.5rem\">product</span>\n",
       "</mark>\n",
       " from \n",
       "<mark class=\"entity\" style=\"background: #ddd; padding: 0.45em 0.6em; margin: 0 0.25em; line-height: 1; border-radius: 0.35em;\">\n",
       "    Mama Nkechi’s Groceries\n",
       "    <span style=\"font-size: 0.8em; font-weight: bold; line-height: 1; border-radius: 0.35em; vertical-align: middle; margin-left: 0.5rem\">store</span>\n",
       "</mark>\n",
       "</div></span>"
      ],
      "text/plain": [
       "<IPython.core.display.HTML object>"
      ]
     },
     "metadata": {},
     "output_type": "display_data"
    }
   ],
   "source": [
    "# Using spacy displacy to render entities visiually\n",
    "spacy.displacy.render(doc, style=\"ent\")"
   ]
  },
  {
   "cell_type": "code",
   "execution_count": 13,
   "id": "511170c5-ed4b-42bb-ad72-1d21291d47d0",
   "metadata": {},
   "outputs": [
    {
     "name": "stdout",
     "output_type": "stream",
     "text": [
      "2.13.1\n"
     ]
    }
   ],
   "source": [
    "import tensorflow as tf\n",
    "\n",
    "# Print the TensorFlow version\n",
    "print(tf.__version__)"
   ]
  },
  {
   "cell_type": "code",
   "execution_count": 14,
   "id": "8a3badf3-1dc0-480c-a9fe-6cbedab0ba0b",
   "metadata": {},
   "outputs": [
    {
     "name": "stdout",
     "output_type": "stream",
     "text": [
      "1.24.2\n"
     ]
    }
   ],
   "source": [
    "import numpy as np\n",
    "\n",
    "# Print the NumPy version\n",
    "print(np.__version__)"
   ]
  },
  {
   "cell_type": "code",
   "execution_count": 15,
   "id": "a521316f-bcdd-431b-b841-fcae49c7f48b",
   "metadata": {},
   "outputs": [
    {
     "name": "stdout",
     "output_type": "stream",
     "text": [
      "8.2.2\n"
     ]
    }
   ],
   "source": [
    "import thinc\n",
    "\n",
    "# Print the Thinc version\n",
    "print(thinc.__version__)"
   ]
  },
  {
   "cell_type": "code",
   "execution_count": 19,
   "id": "b6732f11-9974-4713-8ca1-1d14487b9574",
   "metadata": {},
   "outputs": [
    {
     "name": "stdout",
     "output_type": "stream",
     "text": [
      "3.7.2\n"
     ]
    }
   ],
   "source": [
    "import spacy\n",
    "\n",
    "# Print the spaCy version\n",
    "print(spacy.__version__)"
   ]
  },
  {
   "cell_type": "code",
   "execution_count": 23,
   "id": "1ac6e3b9-6f06-47c4-b554-bcbfc1ef485e",
   "metadata": {},
   "outputs": [
    {
     "name": "stdout",
     "output_type": "stream",
     "text": [
      "Name: typing_extensions\n",
      "Version: 4.9.0\n",
      "Summary: Backported and Experimental Type Hints for Python 3.8+\n",
      "Home-page: \n",
      "Author: \n",
      "Note: you may need to restart the kernel to use updated packages.\n"
     ]
    },
    {
     "name": "stderr",
     "output_type": "stream",
     "text": [
      "--- Logging error ---\n",
      "Traceback (most recent call last):\n",
      "  File \"C:\\Users\\mikos\\AppData\\Local\\Packages\\PythonSoftwareFoundation.Python.3.10_qbz5n2kfra8p0\\LocalCache\\local-packages\\Python310\\site-packages\\pip\\_internal\\utils\\logging.py\", line 177, in emit\n",
      "    self.console.print(renderable, overflow=\"ignore\", crop=False, style=style)\n",
      "  File \"C:\\Users\\mikos\\AppData\\Local\\Packages\\PythonSoftwareFoundation.Python.3.10_qbz5n2kfra8p0\\LocalCache\\local-packages\\Python310\\site-packages\\pip\\_vendor\\rich\\console.py\", line 1672, in print\n",
      "    with self:\n",
      "  File \"C:\\Users\\mikos\\AppData\\Local\\Packages\\PythonSoftwareFoundation.Python.3.10_qbz5n2kfra8p0\\LocalCache\\local-packages\\Python310\\site-packages\\pip\\_vendor\\rich\\console.py\", line 864, in __exit__\n",
      "    self._exit_buffer()\n",
      "  File \"C:\\Users\\mikos\\AppData\\Local\\Packages\\PythonSoftwareFoundation.Python.3.10_qbz5n2kfra8p0\\LocalCache\\local-packages\\Python310\\site-packages\\pip\\_vendor\\rich\\console.py\", line 822, in _exit_buffer\n",
      "    self._check_buffer()\n",
      "  File \"C:\\Users\\mikos\\AppData\\Local\\Packages\\PythonSoftwareFoundation.Python.3.10_qbz5n2kfra8p0\\LocalCache\\local-packages\\Python310\\site-packages\\pip\\_vendor\\rich\\console.py\", line 2027, in _check_buffer\n",
      "    legacy_windows_render(buffer, LegacyWindowsTerm(self.file))\n",
      "  File \"C:\\Users\\mikos\\AppData\\Local\\Packages\\PythonSoftwareFoundation.Python.3.10_qbz5n2kfra8p0\\LocalCache\\local-packages\\Python310\\site-packages\\pip\\_vendor\\rich\\_windows_renderer.py\", line 19, in legacy_windows_render\n",
      "    term.write_text(text)\n",
      "  File \"C:\\Users\\mikos\\AppData\\Local\\Packages\\PythonSoftwareFoundation.Python.3.10_qbz5n2kfra8p0\\LocalCache\\local-packages\\Python310\\site-packages\\pip\\_vendor\\rich\\_win32_console.py\", line 403, in write_text\n",
      "    self.write(text)\n",
      "  File \"C:\\Program Files\\WindowsApps\\PythonSoftwareFoundation.Python.3.10_3.10.3056.0_x64__qbz5n2kfra8p0\\lib\\encodings\\cp1252.py\", line 19, in encode\n",
      "    return codecs.charmap_encode(input,self.errors,encoding_table)[0]\n",
      "UnicodeEncodeError: 'charmap' codec can't encode character '\\u0141' in position 50: character maps to <undefined>\n",
      "Call stack:\n",
      "  File \"C:\\Program Files\\WindowsApps\\PythonSoftwareFoundation.Python.3.10_3.10.3056.0_x64__qbz5n2kfra8p0\\lib\\runpy.py\", line 196, in _run_module_as_main\n",
      "    return _run_code(code, main_globals, None,\n",
      "  File \"C:\\Program Files\\WindowsApps\\PythonSoftwareFoundation.Python.3.10_3.10.3056.0_x64__qbz5n2kfra8p0\\lib\\runpy.py\", line 86, in _run_code\n",
      "    exec(code, run_globals)\n",
      "  File \"C:\\Users\\mikos\\AppData\\Local\\Packages\\PythonSoftwareFoundation.Python.3.10_qbz5n2kfra8p0\\LocalCache\\local-packages\\Python310\\site-packages\\pip\\__main__.py\", line 24, in <module>\n",
      "    sys.exit(_main())\n",
      "  File \"C:\\Users\\mikos\\AppData\\Local\\Packages\\PythonSoftwareFoundation.Python.3.10_qbz5n2kfra8p0\\LocalCache\\local-packages\\Python310\\site-packages\\pip\\_internal\\cli\\main.py\", line 79, in main\n",
      "    return command.main(cmd_args)\n",
      "  File \"C:\\Users\\mikos\\AppData\\Local\\Packages\\PythonSoftwareFoundation.Python.3.10_qbz5n2kfra8p0\\LocalCache\\local-packages\\Python310\\site-packages\\pip\\_internal\\cli\\base_command.py\", line 101, in main\n",
      "    return self._main(args)\n",
      "  File \"C:\\Users\\mikos\\AppData\\Local\\Packages\\PythonSoftwareFoundation.Python.3.10_qbz5n2kfra8p0\\LocalCache\\local-packages\\Python310\\site-packages\\pip\\_internal\\cli\\base_command.py\", line 234, in _main\n",
      "    return run(options, args)\n",
      "  File \"C:\\Users\\mikos\\AppData\\Local\\Packages\\PythonSoftwareFoundation.Python.3.10_qbz5n2kfra8p0\\LocalCache\\local-packages\\Python310\\site-packages\\pip\\_internal\\cli\\base_command.py\", line 180, in exc_logging_wrapper\n",
      "    status = run_func(*args)\n",
      "  File \"C:\\Users\\mikos\\AppData\\Local\\Packages\\PythonSoftwareFoundation.Python.3.10_qbz5n2kfra8p0\\LocalCache\\local-packages\\Python310\\site-packages\\pip\\_internal\\commands\\show.py\", line 45, in run\n",
      "    if not print_results(\n",
      "  File \"C:\\Users\\mikos\\AppData\\Local\\Packages\\PythonSoftwareFoundation.Python.3.10_qbz5n2kfra8p0\\LocalCache\\local-packages\\Python310\\site-packages\\pip\\_internal\\commands\\show.py\", line 160, in print_results\n",
      "    write_output(\"Author-email: %s\", dist.author_email)\n",
      "  File \"C:\\Users\\mikos\\AppData\\Local\\Packages\\PythonSoftwareFoundation.Python.3.10_qbz5n2kfra8p0\\LocalCache\\local-packages\\Python310\\site-packages\\pip\\_internal\\utils\\misc.py\", line 387, in write_output\n",
      "    logger.info(msg, *args)\n",
      "  File \"C:\\Program Files\\WindowsApps\\PythonSoftwareFoundation.Python.3.10_3.10.3056.0_x64__qbz5n2kfra8p0\\lib\\logging\\__init__.py\", line 1477, in info\n",
      "    self._log(INFO, msg, args, **kwargs)\n",
      "  File \"C:\\Program Files\\WindowsApps\\PythonSoftwareFoundation.Python.3.10_3.10.3056.0_x64__qbz5n2kfra8p0\\lib\\logging\\__init__.py\", line 1624, in _log\n",
      "    self.handle(record)\n",
      "  File \"C:\\Program Files\\WindowsApps\\PythonSoftwareFoundation.Python.3.10_3.10.3056.0_x64__qbz5n2kfra8p0\\lib\\logging\\__init__.py\", line 1634, in handle\n",
      "    self.callHandlers(record)\n",
      "  File \"C:\\Program Files\\WindowsApps\\PythonSoftwareFoundation.Python.3.10_3.10.3056.0_x64__qbz5n2kfra8p0\\lib\\logging\\__init__.py\", line 1696, in callHandlers\n",
      "    hdlr.handle(record)\n",
      "  File \"C:\\Program Files\\WindowsApps\\PythonSoftwareFoundation.Python.3.10_3.10.3056.0_x64__qbz5n2kfra8p0\\lib\\logging\\__init__.py\", line 968, in handle\n",
      "    self.emit(record)\n",
      "  File \"C:\\Users\\mikos\\AppData\\Local\\Packages\\PythonSoftwareFoundation.Python.3.10_qbz5n2kfra8p0\\LocalCache\\local-packages\\Python310\\site-packages\\pip\\_internal\\utils\\logging.py\", line 179, in emit\n",
      "    self.handleError(record)\n",
      "Message: 'Author-email: %s'\n",
      "Arguments: ('\"Guido van Rossum, Jukka Lehtosalo, \\u0141ukasz Langa, Michael Lee\" <levkivskyi@gmail.com>',)\n",
      "--- Logging error ---\n",
      "Traceback (most recent call last):\n",
      "  File \"C:\\Users\\mikos\\AppData\\Local\\Packages\\PythonSoftwareFoundation.Python.3.10_qbz5n2kfra8p0\\LocalCache\\local-packages\\Python310\\site-packages\\pip\\_internal\\utils\\logging.py\", line 177, in emit\n",
      "    self.console.print(renderable, overflow=\"ignore\", crop=False, style=style)\n",
      "  File \"C:\\Users\\mikos\\AppData\\Local\\Packages\\PythonSoftwareFoundation.Python.3.10_qbz5n2kfra8p0\\LocalCache\\local-packages\\Python310\\site-packages\\pip\\_vendor\\rich\\console.py\", line 1672, in print\n",
      "    with self:\n",
      "  File \"C:\\Users\\mikos\\AppData\\Local\\Packages\\PythonSoftwareFoundation.Python.3.10_qbz5n2kfra8p0\\LocalCache\\local-packages\\Python310\\site-packages\\pip\\_vendor\\rich\\console.py\", line 864, in __exit__\n",
      "    self._exit_buffer()\n",
      "  File \"C:\\Users\\mikos\\AppData\\Local\\Packages\\PythonSoftwareFoundation.Python.3.10_qbz5n2kfra8p0\\LocalCache\\local-packages\\Python310\\site-packages\\pip\\_vendor\\rich\\console.py\", line 822, in _exit_buffer\n",
      "    self._check_buffer()\n",
      "  File \"C:\\Users\\mikos\\AppData\\Local\\Packages\\PythonSoftwareFoundation.Python.3.10_qbz5n2kfra8p0\\LocalCache\\local-packages\\Python310\\site-packages\\pip\\_vendor\\rich\\console.py\", line 2027, in _check_buffer\n",
      "    legacy_windows_render(buffer, LegacyWindowsTerm(self.file))\n",
      "  File \"C:\\Users\\mikos\\AppData\\Local\\Packages\\PythonSoftwareFoundation.Python.3.10_qbz5n2kfra8p0\\LocalCache\\local-packages\\Python310\\site-packages\\pip\\_vendor\\rich\\_windows_renderer.py\", line 19, in legacy_windows_render\n",
      "    term.write_text(text)\n",
      "  File \"C:\\Users\\mikos\\AppData\\Local\\Packages\\PythonSoftwareFoundation.Python.3.10_qbz5n2kfra8p0\\LocalCache\\local-packages\\Python310\\site-packages\\pip\\_vendor\\rich\\_win32_console.py\", line 403, in write_text\n",
      "    self.write(text)\n",
      "  File \"C:\\Program Files\\WindowsApps\\PythonSoftwareFoundation.Python.3.10_3.10.3056.0_x64__qbz5n2kfra8p0\\lib\\encodings\\cp1252.py\", line 19, in encode\n",
      "    return codecs.charmap_encode(input,self.errors,encoding_table)[0]\n",
      "UnicodeEncodeError: 'charmap' codec can't encode character '\\u0141' in position 50: character maps to <undefined>\n",
      "Call stack:\n",
      "  File \"C:\\Program Files\\WindowsApps\\PythonSoftwareFoundation.Python.3.10_3.10.3056.0_x64__qbz5n2kfra8p0\\lib\\runpy.py\", line 196, in _run_module_as_main\n",
      "    return _run_code(code, main_globals, None,\n",
      "  File \"C:\\Program Files\\WindowsApps\\PythonSoftwareFoundation.Python.3.10_3.10.3056.0_x64__qbz5n2kfra8p0\\lib\\runpy.py\", line 86, in _run_code\n",
      "    exec(code, run_globals)\n",
      "  File \"C:\\Users\\mikos\\AppData\\Local\\Packages\\PythonSoftwareFoundation.Python.3.10_qbz5n2kfra8p0\\LocalCache\\local-packages\\Python310\\site-packages\\pip\\__main__.py\", line 24, in <module>\n",
      "    sys.exit(_main())\n",
      "  File \"C:\\Users\\mikos\\AppData\\Local\\Packages\\PythonSoftwareFoundation.Python.3.10_qbz5n2kfra8p0\\LocalCache\\local-packages\\Python310\\site-packages\\pip\\_internal\\cli\\main.py\", line 79, in main\n",
      "    return command.main(cmd_args)\n",
      "  File \"C:\\Users\\mikos\\AppData\\Local\\Packages\\PythonSoftwareFoundation.Python.3.10_qbz5n2kfra8p0\\LocalCache\\local-packages\\Python310\\site-packages\\pip\\_internal\\cli\\base_command.py\", line 101, in main\n",
      "    return self._main(args)\n",
      "  File \"C:\\Users\\mikos\\AppData\\Local\\Packages\\PythonSoftwareFoundation.Python.3.10_qbz5n2kfra8p0\\LocalCache\\local-packages\\Python310\\site-packages\\pip\\_internal\\cli\\base_command.py\", line 234, in _main\n",
      "    return run(options, args)\n",
      "  File \"C:\\Users\\mikos\\AppData\\Local\\Packages\\PythonSoftwareFoundation.Python.3.10_qbz5n2kfra8p0\\LocalCache\\local-packages\\Python310\\site-packages\\pip\\_internal\\cli\\base_command.py\", line 180, in exc_logging_wrapper\n",
      "    status = run_func(*args)\n",
      "  File \"C:\\Users\\mikos\\AppData\\Local\\Packages\\PythonSoftwareFoundation.Python.3.10_qbz5n2kfra8p0\\LocalCache\\local-packages\\Python310\\site-packages\\pip\\_internal\\commands\\show.py\", line 45, in run\n",
      "    if not print_results(\n",
      "  File \"C:\\Users\\mikos\\AppData\\Local\\Packages\\PythonSoftwareFoundation.Python.3.10_qbz5n2kfra8p0\\LocalCache\\local-packages\\Python310\\site-packages\\pip\\_internal\\commands\\show.py\", line 161, in print_results\n",
      "    write_output(\"License: %s\", dist.license)\n",
      "  File \"C:\\Users\\mikos\\AppData\\Local\\Packages\\PythonSoftwareFoundation.Python.3.10_qbz5n2kfra8p0\\LocalCache\\local-packages\\Python310\\site-packages\\pip\\_internal\\utils\\misc.py\", line 387, in write_output\n",
      "    logger.info(msg, *args)\n",
      "  File \"C:\\Program Files\\WindowsApps\\PythonSoftwareFoundation.Python.3.10_3.10.3056.0_x64__qbz5n2kfra8p0\\lib\\logging\\__init__.py\", line 1477, in info\n",
      "    self._log(INFO, msg, args, **kwargs)\n",
      "  File \"C:\\Program Files\\WindowsApps\\PythonSoftwareFoundation.Python.3.10_3.10.3056.0_x64__qbz5n2kfra8p0\\lib\\logging\\__init__.py\", line 1624, in _log\n",
      "    self.handle(record)\n",
      "  File \"C:\\Program Files\\WindowsApps\\PythonSoftwareFoundation.Python.3.10_3.10.3056.0_x64__qbz5n2kfra8p0\\lib\\logging\\__init__.py\", line 1634, in handle\n",
      "    self.callHandlers(record)\n",
      "  File \"C:\\Program Files\\WindowsApps\\PythonSoftwareFoundation.Python.3.10_3.10.3056.0_x64__qbz5n2kfra8p0\\lib\\logging\\__init__.py\", line 1696, in callHandlers\n",
      "    hdlr.handle(record)\n",
      "  File \"C:\\Program Files\\WindowsApps\\PythonSoftwareFoundation.Python.3.10_3.10.3056.0_x64__qbz5n2kfra8p0\\lib\\logging\\__init__.py\", line 968, in handle\n",
      "    self.emit(record)\n",
      "  File \"C:\\Users\\mikos\\AppData\\Local\\Packages\\PythonSoftwareFoundation.Python.3.10_qbz5n2kfra8p0\\LocalCache\\local-packages\\Python310\\site-packages\\pip\\_internal\\utils\\logging.py\", line 179, in emit\n",
      "    self.handleError(record)\n",
      "Message: 'License: %s'\n",
      "Arguments: ('',)\n",
      "--- Logging error ---\n",
      "Traceback (most recent call last):\n",
      "  File \"C:\\Users\\mikos\\AppData\\Local\\Packages\\PythonSoftwareFoundation.Python.3.10_qbz5n2kfra8p0\\LocalCache\\local-packages\\Python310\\site-packages\\pip\\_internal\\utils\\logging.py\", line 177, in emit\n",
      "    self.console.print(renderable, overflow=\"ignore\", crop=False, style=style)\n",
      "  File \"C:\\Users\\mikos\\AppData\\Local\\Packages\\PythonSoftwareFoundation.Python.3.10_qbz5n2kfra8p0\\LocalCache\\local-packages\\Python310\\site-packages\\pip\\_vendor\\rich\\console.py\", line 1672, in print\n",
      "    with self:\n",
      "  File \"C:\\Users\\mikos\\AppData\\Local\\Packages\\PythonSoftwareFoundation.Python.3.10_qbz5n2kfra8p0\\LocalCache\\local-packages\\Python310\\site-packages\\pip\\_vendor\\rich\\console.py\", line 864, in __exit__\n",
      "    self._exit_buffer()\n",
      "  File \"C:\\Users\\mikos\\AppData\\Local\\Packages\\PythonSoftwareFoundation.Python.3.10_qbz5n2kfra8p0\\LocalCache\\local-packages\\Python310\\site-packages\\pip\\_vendor\\rich\\console.py\", line 822, in _exit_buffer\n",
      "    self._check_buffer()\n",
      "  File \"C:\\Users\\mikos\\AppData\\Local\\Packages\\PythonSoftwareFoundation.Python.3.10_qbz5n2kfra8p0\\LocalCache\\local-packages\\Python310\\site-packages\\pip\\_vendor\\rich\\console.py\", line 2027, in _check_buffer\n",
      "    legacy_windows_render(buffer, LegacyWindowsTerm(self.file))\n",
      "  File \"C:\\Users\\mikos\\AppData\\Local\\Packages\\PythonSoftwareFoundation.Python.3.10_qbz5n2kfra8p0\\LocalCache\\local-packages\\Python310\\site-packages\\pip\\_vendor\\rich\\_windows_renderer.py\", line 19, in legacy_windows_render\n",
      "    term.write_text(text)\n",
      "  File \"C:\\Users\\mikos\\AppData\\Local\\Packages\\PythonSoftwareFoundation.Python.3.10_qbz5n2kfra8p0\\LocalCache\\local-packages\\Python310\\site-packages\\pip\\_vendor\\rich\\_win32_console.py\", line 403, in write_text\n",
      "    self.write(text)\n",
      "  File \"C:\\Program Files\\WindowsApps\\PythonSoftwareFoundation.Python.3.10_3.10.3056.0_x64__qbz5n2kfra8p0\\lib\\encodings\\cp1252.py\", line 19, in encode\n",
      "    return codecs.charmap_encode(input,self.errors,encoding_table)[0]\n",
      "UnicodeEncodeError: 'charmap' codec can't encode character '\\u0141' in position 50: character maps to <undefined>\n",
      "Call stack:\n",
      "  File \"C:\\Program Files\\WindowsApps\\PythonSoftwareFoundation.Python.3.10_3.10.3056.0_x64__qbz5n2kfra8p0\\lib\\runpy.py\", line 196, in _run_module_as_main\n",
      "    return _run_code(code, main_globals, None,\n",
      "  File \"C:\\Program Files\\WindowsApps\\PythonSoftwareFoundation.Python.3.10_3.10.3056.0_x64__qbz5n2kfra8p0\\lib\\runpy.py\", line 86, in _run_code\n",
      "    exec(code, run_globals)\n",
      "  File \"C:\\Users\\mikos\\AppData\\Local\\Packages\\PythonSoftwareFoundation.Python.3.10_qbz5n2kfra8p0\\LocalCache\\local-packages\\Python310\\site-packages\\pip\\__main__.py\", line 24, in <module>\n",
      "    sys.exit(_main())\n",
      "  File \"C:\\Users\\mikos\\AppData\\Local\\Packages\\PythonSoftwareFoundation.Python.3.10_qbz5n2kfra8p0\\LocalCache\\local-packages\\Python310\\site-packages\\pip\\_internal\\cli\\main.py\", line 79, in main\n",
      "    return command.main(cmd_args)\n",
      "  File \"C:\\Users\\mikos\\AppData\\Local\\Packages\\PythonSoftwareFoundation.Python.3.10_qbz5n2kfra8p0\\LocalCache\\local-packages\\Python310\\site-packages\\pip\\_internal\\cli\\base_command.py\", line 101, in main\n",
      "    return self._main(args)\n",
      "  File \"C:\\Users\\mikos\\AppData\\Local\\Packages\\PythonSoftwareFoundation.Python.3.10_qbz5n2kfra8p0\\LocalCache\\local-packages\\Python310\\site-packages\\pip\\_internal\\cli\\base_command.py\", line 234, in _main\n",
      "    return run(options, args)\n",
      "  File \"C:\\Users\\mikos\\AppData\\Local\\Packages\\PythonSoftwareFoundation.Python.3.10_qbz5n2kfra8p0\\LocalCache\\local-packages\\Python310\\site-packages\\pip\\_internal\\cli\\base_command.py\", line 180, in exc_logging_wrapper\n",
      "    status = run_func(*args)\n",
      "  File \"C:\\Users\\mikos\\AppData\\Local\\Packages\\PythonSoftwareFoundation.Python.3.10_qbz5n2kfra8p0\\LocalCache\\local-packages\\Python310\\site-packages\\pip\\_internal\\commands\\show.py\", line 45, in run\n",
      "    if not print_results(\n",
      "  File \"C:\\Users\\mikos\\AppData\\Local\\Packages\\PythonSoftwareFoundation.Python.3.10_qbz5n2kfra8p0\\LocalCache\\local-packages\\Python310\\site-packages\\pip\\_internal\\commands\\show.py\", line 162, in print_results\n",
      "    write_output(\"Location: %s\", dist.location)\n",
      "  File \"C:\\Users\\mikos\\AppData\\Local\\Packages\\PythonSoftwareFoundation.Python.3.10_qbz5n2kfra8p0\\LocalCache\\local-packages\\Python310\\site-packages\\pip\\_internal\\utils\\misc.py\", line 387, in write_output\n",
      "    logger.info(msg, *args)\n",
      "  File \"C:\\Program Files\\WindowsApps\\PythonSoftwareFoundation.Python.3.10_3.10.3056.0_x64__qbz5n2kfra8p0\\lib\\logging\\__init__.py\", line 1477, in info\n",
      "    self._log(INFO, msg, args, **kwargs)\n",
      "  File \"C:\\Program Files\\WindowsApps\\PythonSoftwareFoundation.Python.3.10_3.10.3056.0_x64__qbz5n2kfra8p0\\lib\\logging\\__init__.py\", line 1624, in _log\n",
      "    self.handle(record)\n",
      "  File \"C:\\Program Files\\WindowsApps\\PythonSoftwareFoundation.Python.3.10_3.10.3056.0_x64__qbz5n2kfra8p0\\lib\\logging\\__init__.py\", line 1634, in handle\n",
      "    self.callHandlers(record)\n",
      "  File \"C:\\Program Files\\WindowsApps\\PythonSoftwareFoundation.Python.3.10_3.10.3056.0_x64__qbz5n2kfra8p0\\lib\\logging\\__init__.py\", line 1696, in callHandlers\n",
      "    hdlr.handle(record)\n",
      "  File \"C:\\Program Files\\WindowsApps\\PythonSoftwareFoundation.Python.3.10_3.10.3056.0_x64__qbz5n2kfra8p0\\lib\\logging\\__init__.py\", line 968, in handle\n",
      "    self.emit(record)\n",
      "  File \"C:\\Users\\mikos\\AppData\\Local\\Packages\\PythonSoftwareFoundation.Python.3.10_qbz5n2kfra8p0\\LocalCache\\local-packages\\Python310\\site-packages\\pip\\_internal\\utils\\logging.py\", line 179, in emit\n",
      "    self.handleError(record)\n",
      "Message: 'Location: %s'\n",
      "Arguments: ('c:\\\\users\\\\mikos\\\\appdata\\\\local\\\\packages\\\\pythonsoftwarefoundation.python.3.10_qbz5n2kfra8p0\\\\localcache\\\\local-packages\\\\python310\\\\site-packages',)\n",
      "--- Logging error ---\n",
      "Traceback (most recent call last):\n",
      "  File \"C:\\Users\\mikos\\AppData\\Local\\Packages\\PythonSoftwareFoundation.Python.3.10_qbz5n2kfra8p0\\LocalCache\\local-packages\\Python310\\site-packages\\pip\\_internal\\utils\\logging.py\", line 177, in emit\n",
      "    self.console.print(renderable, overflow=\"ignore\", crop=False, style=style)\n",
      "  File \"C:\\Users\\mikos\\AppData\\Local\\Packages\\PythonSoftwareFoundation.Python.3.10_qbz5n2kfra8p0\\LocalCache\\local-packages\\Python310\\site-packages\\pip\\_vendor\\rich\\console.py\", line 1672, in print\n",
      "    with self:\n",
      "  File \"C:\\Users\\mikos\\AppData\\Local\\Packages\\PythonSoftwareFoundation.Python.3.10_qbz5n2kfra8p0\\LocalCache\\local-packages\\Python310\\site-packages\\pip\\_vendor\\rich\\console.py\", line 864, in __exit__\n",
      "    self._exit_buffer()\n",
      "  File \"C:\\Users\\mikos\\AppData\\Local\\Packages\\PythonSoftwareFoundation.Python.3.10_qbz5n2kfra8p0\\LocalCache\\local-packages\\Python310\\site-packages\\pip\\_vendor\\rich\\console.py\", line 822, in _exit_buffer\n",
      "    self._check_buffer()\n",
      "  File \"C:\\Users\\mikos\\AppData\\Local\\Packages\\PythonSoftwareFoundation.Python.3.10_qbz5n2kfra8p0\\LocalCache\\local-packages\\Python310\\site-packages\\pip\\_vendor\\rich\\console.py\", line 2027, in _check_buffer\n",
      "    legacy_windows_render(buffer, LegacyWindowsTerm(self.file))\n",
      "  File \"C:\\Users\\mikos\\AppData\\Local\\Packages\\PythonSoftwareFoundation.Python.3.10_qbz5n2kfra8p0\\LocalCache\\local-packages\\Python310\\site-packages\\pip\\_vendor\\rich\\_windows_renderer.py\", line 19, in legacy_windows_render\n",
      "    term.write_text(text)\n",
      "  File \"C:\\Users\\mikos\\AppData\\Local\\Packages\\PythonSoftwareFoundation.Python.3.10_qbz5n2kfra8p0\\LocalCache\\local-packages\\Python310\\site-packages\\pip\\_vendor\\rich\\_win32_console.py\", line 403, in write_text\n",
      "    self.write(text)\n",
      "  File \"C:\\Program Files\\WindowsApps\\PythonSoftwareFoundation.Python.3.10_3.10.3056.0_x64__qbz5n2kfra8p0\\lib\\encodings\\cp1252.py\", line 19, in encode\n",
      "    return codecs.charmap_encode(input,self.errors,encoding_table)[0]\n",
      "UnicodeEncodeError: 'charmap' codec can't encode character '\\u0141' in position 50: character maps to <undefined>\n",
      "Call stack:\n",
      "  File \"C:\\Program Files\\WindowsApps\\PythonSoftwareFoundation.Python.3.10_3.10.3056.0_x64__qbz5n2kfra8p0\\lib\\runpy.py\", line 196, in _run_module_as_main\n",
      "    return _run_code(code, main_globals, None,\n",
      "  File \"C:\\Program Files\\WindowsApps\\PythonSoftwareFoundation.Python.3.10_3.10.3056.0_x64__qbz5n2kfra8p0\\lib\\runpy.py\", line 86, in _run_code\n",
      "    exec(code, run_globals)\n",
      "  File \"C:\\Users\\mikos\\AppData\\Local\\Packages\\PythonSoftwareFoundation.Python.3.10_qbz5n2kfra8p0\\LocalCache\\local-packages\\Python310\\site-packages\\pip\\__main__.py\", line 24, in <module>\n",
      "    sys.exit(_main())\n",
      "  File \"C:\\Users\\mikos\\AppData\\Local\\Packages\\PythonSoftwareFoundation.Python.3.10_qbz5n2kfra8p0\\LocalCache\\local-packages\\Python310\\site-packages\\pip\\_internal\\cli\\main.py\", line 79, in main\n",
      "    return command.main(cmd_args)\n",
      "  File \"C:\\Users\\mikos\\AppData\\Local\\Packages\\PythonSoftwareFoundation.Python.3.10_qbz5n2kfra8p0\\LocalCache\\local-packages\\Python310\\site-packages\\pip\\_internal\\cli\\base_command.py\", line 101, in main\n",
      "    return self._main(args)\n",
      "  File \"C:\\Users\\mikos\\AppData\\Local\\Packages\\PythonSoftwareFoundation.Python.3.10_qbz5n2kfra8p0\\LocalCache\\local-packages\\Python310\\site-packages\\pip\\_internal\\cli\\base_command.py\", line 234, in _main\n",
      "    return run(options, args)\n",
      "  File \"C:\\Users\\mikos\\AppData\\Local\\Packages\\PythonSoftwareFoundation.Python.3.10_qbz5n2kfra8p0\\LocalCache\\local-packages\\Python310\\site-packages\\pip\\_internal\\cli\\base_command.py\", line 180, in exc_logging_wrapper\n",
      "    status = run_func(*args)\n",
      "  File \"C:\\Users\\mikos\\AppData\\Local\\Packages\\PythonSoftwareFoundation.Python.3.10_qbz5n2kfra8p0\\LocalCache\\local-packages\\Python310\\site-packages\\pip\\_internal\\commands\\show.py\", line 45, in run\n",
      "    if not print_results(\n",
      "  File \"C:\\Users\\mikos\\AppData\\Local\\Packages\\PythonSoftwareFoundation.Python.3.10_qbz5n2kfra8p0\\LocalCache\\local-packages\\Python310\\site-packages\\pip\\_internal\\commands\\show.py\", line 167, in print_results\n",
      "    write_output(\"Requires: %s\", \", \".join(dist.requires))\n",
      "  File \"C:\\Users\\mikos\\AppData\\Local\\Packages\\PythonSoftwareFoundation.Python.3.10_qbz5n2kfra8p0\\LocalCache\\local-packages\\Python310\\site-packages\\pip\\_internal\\utils\\misc.py\", line 387, in write_output\n",
      "    logger.info(msg, *args)\n",
      "  File \"C:\\Program Files\\WindowsApps\\PythonSoftwareFoundation.Python.3.10_3.10.3056.0_x64__qbz5n2kfra8p0\\lib\\logging\\__init__.py\", line 1477, in info\n",
      "    self._log(INFO, msg, args, **kwargs)\n",
      "  File \"C:\\Program Files\\WindowsApps\\PythonSoftwareFoundation.Python.3.10_3.10.3056.0_x64__qbz5n2kfra8p0\\lib\\logging\\__init__.py\", line 1624, in _log\n",
      "    self.handle(record)\n",
      "  File \"C:\\Program Files\\WindowsApps\\PythonSoftwareFoundation.Python.3.10_3.10.3056.0_x64__qbz5n2kfra8p0\\lib\\logging\\__init__.py\", line 1634, in handle\n",
      "    self.callHandlers(record)\n",
      "  File \"C:\\Program Files\\WindowsApps\\PythonSoftwareFoundation.Python.3.10_3.10.3056.0_x64__qbz5n2kfra8p0\\lib\\logging\\__init__.py\", line 1696, in callHandlers\n",
      "    hdlr.handle(record)\n",
      "  File \"C:\\Program Files\\WindowsApps\\PythonSoftwareFoundation.Python.3.10_3.10.3056.0_x64__qbz5n2kfra8p0\\lib\\logging\\__init__.py\", line 968, in handle\n",
      "    self.emit(record)\n",
      "  File \"C:\\Users\\mikos\\AppData\\Local\\Packages\\PythonSoftwareFoundation.Python.3.10_qbz5n2kfra8p0\\LocalCache\\local-packages\\Python310\\site-packages\\pip\\_internal\\utils\\logging.py\", line 179, in emit\n",
      "    self.handleError(record)\n",
      "Message: 'Requires: %s'\n",
      "Arguments: ('',)\n",
      "--- Logging error ---\n",
      "Traceback (most recent call last):\n",
      "  File \"C:\\Users\\mikos\\AppData\\Local\\Packages\\PythonSoftwareFoundation.Python.3.10_qbz5n2kfra8p0\\LocalCache\\local-packages\\Python310\\site-packages\\pip\\_internal\\utils\\logging.py\", line 177, in emit\n",
      "    self.console.print(renderable, overflow=\"ignore\", crop=False, style=style)\n",
      "  File \"C:\\Users\\mikos\\AppData\\Local\\Packages\\PythonSoftwareFoundation.Python.3.10_qbz5n2kfra8p0\\LocalCache\\local-packages\\Python310\\site-packages\\pip\\_vendor\\rich\\console.py\", line 1672, in print\n",
      "    with self:\n",
      "  File \"C:\\Users\\mikos\\AppData\\Local\\Packages\\PythonSoftwareFoundation.Python.3.10_qbz5n2kfra8p0\\LocalCache\\local-packages\\Python310\\site-packages\\pip\\_vendor\\rich\\console.py\", line 864, in __exit__\n",
      "    self._exit_buffer()\n",
      "  File \"C:\\Users\\mikos\\AppData\\Local\\Packages\\PythonSoftwareFoundation.Python.3.10_qbz5n2kfra8p0\\LocalCache\\local-packages\\Python310\\site-packages\\pip\\_vendor\\rich\\console.py\", line 822, in _exit_buffer\n",
      "    self._check_buffer()\n",
      "  File \"C:\\Users\\mikos\\AppData\\Local\\Packages\\PythonSoftwareFoundation.Python.3.10_qbz5n2kfra8p0\\LocalCache\\local-packages\\Python310\\site-packages\\pip\\_vendor\\rich\\console.py\", line 2027, in _check_buffer\n",
      "    legacy_windows_render(buffer, LegacyWindowsTerm(self.file))\n",
      "  File \"C:\\Users\\mikos\\AppData\\Local\\Packages\\PythonSoftwareFoundation.Python.3.10_qbz5n2kfra8p0\\LocalCache\\local-packages\\Python310\\site-packages\\pip\\_vendor\\rich\\_windows_renderer.py\", line 19, in legacy_windows_render\n",
      "    term.write_text(text)\n",
      "  File \"C:\\Users\\mikos\\AppData\\Local\\Packages\\PythonSoftwareFoundation.Python.3.10_qbz5n2kfra8p0\\LocalCache\\local-packages\\Python310\\site-packages\\pip\\_vendor\\rich\\_win32_console.py\", line 403, in write_text\n",
      "    self.write(text)\n",
      "  File \"C:\\Program Files\\WindowsApps\\PythonSoftwareFoundation.Python.3.10_3.10.3056.0_x64__qbz5n2kfra8p0\\lib\\encodings\\cp1252.py\", line 19, in encode\n",
      "    return codecs.charmap_encode(input,self.errors,encoding_table)[0]\n",
      "UnicodeEncodeError: 'charmap' codec can't encode character '\\u0141' in position 50: character maps to <undefined>\n",
      "Call stack:\n",
      "  File \"C:\\Program Files\\WindowsApps\\PythonSoftwareFoundation.Python.3.10_3.10.3056.0_x64__qbz5n2kfra8p0\\lib\\runpy.py\", line 196, in _run_module_as_main\n",
      "    return _run_code(code, main_globals, None,\n",
      "  File \"C:\\Program Files\\WindowsApps\\PythonSoftwareFoundation.Python.3.10_3.10.3056.0_x64__qbz5n2kfra8p0\\lib\\runpy.py\", line 86, in _run_code\n",
      "    exec(code, run_globals)\n",
      "  File \"C:\\Users\\mikos\\AppData\\Local\\Packages\\PythonSoftwareFoundation.Python.3.10_qbz5n2kfra8p0\\LocalCache\\local-packages\\Python310\\site-packages\\pip\\__main__.py\", line 24, in <module>\n",
      "    sys.exit(_main())\n",
      "  File \"C:\\Users\\mikos\\AppData\\Local\\Packages\\PythonSoftwareFoundation.Python.3.10_qbz5n2kfra8p0\\LocalCache\\local-packages\\Python310\\site-packages\\pip\\_internal\\cli\\main.py\", line 79, in main\n",
      "    return command.main(cmd_args)\n",
      "  File \"C:\\Users\\mikos\\AppData\\Local\\Packages\\PythonSoftwareFoundation.Python.3.10_qbz5n2kfra8p0\\LocalCache\\local-packages\\Python310\\site-packages\\pip\\_internal\\cli\\base_command.py\", line 101, in main\n",
      "    return self._main(args)\n",
      "  File \"C:\\Users\\mikos\\AppData\\Local\\Packages\\PythonSoftwareFoundation.Python.3.10_qbz5n2kfra8p0\\LocalCache\\local-packages\\Python310\\site-packages\\pip\\_internal\\cli\\base_command.py\", line 234, in _main\n",
      "    return run(options, args)\n",
      "  File \"C:\\Users\\mikos\\AppData\\Local\\Packages\\PythonSoftwareFoundation.Python.3.10_qbz5n2kfra8p0\\LocalCache\\local-packages\\Python310\\site-packages\\pip\\_internal\\cli\\base_command.py\", line 180, in exc_logging_wrapper\n",
      "    status = run_func(*args)\n",
      "  File \"C:\\Users\\mikos\\AppData\\Local\\Packages\\PythonSoftwareFoundation.Python.3.10_qbz5n2kfra8p0\\LocalCache\\local-packages\\Python310\\site-packages\\pip\\_internal\\commands\\show.py\", line 45, in run\n",
      "    if not print_results(\n",
      "  File \"C:\\Users\\mikos\\AppData\\Local\\Packages\\PythonSoftwareFoundation.Python.3.10_qbz5n2kfra8p0\\LocalCache\\local-packages\\Python310\\site-packages\\pip\\_internal\\commands\\show.py\", line 168, in print_results\n",
      "    write_output(\"Required-by: %s\", \", \".join(dist.required_by))\n",
      "  File \"C:\\Users\\mikos\\AppData\\Local\\Packages\\PythonSoftwareFoundation.Python.3.10_qbz5n2kfra8p0\\LocalCache\\local-packages\\Python310\\site-packages\\pip\\_internal\\utils\\misc.py\", line 387, in write_output\n",
      "    logger.info(msg, *args)\n",
      "  File \"C:\\Program Files\\WindowsApps\\PythonSoftwareFoundation.Python.3.10_3.10.3056.0_x64__qbz5n2kfra8p0\\lib\\logging\\__init__.py\", line 1477, in info\n",
      "    self._log(INFO, msg, args, **kwargs)\n",
      "  File \"C:\\Program Files\\WindowsApps\\PythonSoftwareFoundation.Python.3.10_3.10.3056.0_x64__qbz5n2kfra8p0\\lib\\logging\\__init__.py\", line 1624, in _log\n",
      "    self.handle(record)\n",
      "  File \"C:\\Program Files\\WindowsApps\\PythonSoftwareFoundation.Python.3.10_3.10.3056.0_x64__qbz5n2kfra8p0\\lib\\logging\\__init__.py\", line 1634, in handle\n",
      "    self.callHandlers(record)\n",
      "  File \"C:\\Program Files\\WindowsApps\\PythonSoftwareFoundation.Python.3.10_3.10.3056.0_x64__qbz5n2kfra8p0\\lib\\logging\\__init__.py\", line 1696, in callHandlers\n",
      "    hdlr.handle(record)\n",
      "  File \"C:\\Program Files\\WindowsApps\\PythonSoftwareFoundation.Python.3.10_3.10.3056.0_x64__qbz5n2kfra8p0\\lib\\logging\\__init__.py\", line 968, in handle\n",
      "    self.emit(record)\n",
      "  File \"C:\\Users\\mikos\\AppData\\Local\\Packages\\PythonSoftwareFoundation.Python.3.10_qbz5n2kfra8p0\\LocalCache\\local-packages\\Python310\\site-packages\\pip\\_internal\\utils\\logging.py\", line 179, in emit\n",
      "    self.handleError(record)\n",
      "Message: 'Required-by: %s'\n",
      "Arguments: ('altair, async-lru, cloudpathlib, fastapi, huggingface-hub, openai, pinecone-client, pydantic, pydantic_core, SQLAlchemy, streamlit, tensorflow-intel, torch, typer, typing-inspect, uvicorn',)\n"
     ]
    }
   ],
   "source": [
    "pip show typing-extensions"
   ]
  },
  {
   "cell_type": "code",
   "execution_count": 18,
   "id": "9592abf6-b3c0-4e3c-b61f-c0b50649bd2a",
   "metadata": {},
   "outputs": [
    {
     "name": "stdout",
     "output_type": "stream",
     "text": [
      "Name: blisNote: you may need to restart the kernel to use updated packages.\n",
      "\n",
      "Version: 0.7.11\n",
      "Summary: The Blis BLAS-like linear algebra library, as a self-contained C-extension.\n",
      "Home-page: https://github.com/explosion/cython-blis\n",
      "Author: Matthew Honnibal\n",
      "Author-email: matt@explosion.ai\n",
      "License: BSD\n",
      "Location: c:\\users\\mikos\\appdata\\local\\packages\\pythonsoftwarefoundation.python.3.10_qbz5n2kfra8p0\\localcache\\local-packages\\python310\\site-packages\n",
      "Requires: numpy\n",
      "Required-by: thinc\n"
     ]
    }
   ],
   "source": [
    "pip show blis"
   ]
  },
  {
   "cell_type": "markdown",
   "id": "3e7945a5-9b63-436c-a2c3-587080c6784e",
   "metadata": {},
   "source": [
    "### Intent Recognition"
   ]
  },
  {
   "cell_type": "markdown",
   "id": "f9713db3-c273-491e-a110-6069d60b70b8",
   "metadata": {},
   "source": [
    "#### Tokenizer and Input Sentence"
   ]
  },
  {
   "cell_type": "code",
   "execution_count": 4,
   "id": "a5e4454f-36db-4ed2-9a55-5cec7b65cb19",
   "metadata": {},
   "outputs": [],
   "source": [
    "# Import necessary libraries for to\n",
    "from tensorflow.keras.preprocessing.sequence import pad_sequences"
   ]
  },
  {
   "cell_type": "code",
   "execution_count": 5,
   "id": "02e8064f-ae08-46e8-92e0-7ddd49282021",
   "metadata": {},
   "outputs": [],
   "source": [
    "# Import saved tokenizer that's been trained on the input data\n",
    "import pickle\n",
    "with open('tokenizer.pickle', 'rb') as handle:\n",
    "    tokenizer_import = pickle.load(handle)"
   ]
  },
  {
   "cell_type": "code",
   "execution_count": 6,
   "id": "b9bff898-b2b6-4e76-8932-4e522659cb7d",
   "metadata": {},
   "outputs": [],
   "source": [
    "# Import saved encoder that's been trained on the output data\n",
    "with open('label_encoder.pickle', 'rb') as f:\n",
    "    encoder_import = pickle.load(f)"
   ]
  },
  {
   "cell_type": "code",
   "execution_count": 7,
   "id": "c08cd5be-c30b-4426-ad31-01b14040b5ad",
   "metadata": {},
   "outputs": [],
   "source": [
    "# use tokenizer and padding to convert the input sentence into a readable format for the A.i \n",
    "import numpy as np\n",
    "def prepare_sentence (sentence: str, max_seq_len: int = 35)-> np.ndarray:\n",
    "    input_seq = tokenizer_import.texts_to_sequences([sentence])\n",
    "    input_features = pad_sequences(input_seq, maxlen = max_seq_len, padding = 'post')\n",
    "    return input_features"
   ]
  },
  {
   "cell_type": "markdown",
   "id": "52d68232-2f8f-41ea-ae25-0f00c85704f7",
   "metadata": {},
   "source": [
    "#### Model and Tokenised sentence"
   ]
  },
  {
   "cell_type": "code",
   "execution_count": 10,
   "id": "45f71ec8-70e2-4f01-a48f-67ff9bfdf35f",
   "metadata": {},
   "outputs": [],
   "source": [
    "# Import trained Intent recognition model-best\n",
    "from tensorflow.keras.models import load_model"
   ]
  },
  {
   "cell_type": "code",
   "execution_count": 11,
   "id": "297aa60f-bbc1-4c20-b8db-4a0218c66bf9",
   "metadata": {},
   "outputs": [],
   "source": [
    "model = load_model('intent_recognition_model') "
   ]
  },
  {
   "cell_type": "code",
   "execution_count": 12,
   "id": "fe1a456b-8794-488d-a830-b8c151231bb9",
   "metadata": {},
   "outputs": [
    {
     "name": "stdout",
     "output_type": "stream",
     "text": [
      "1/1 [==============================] - 0s 215ms/step\n",
      "getRecommendations\n"
     ]
    }
   ],
   "source": [
    "input_sentence = \"any suggestions?\"\n",
    "\n",
    "probs2 = model.predict(prepare_sentence(input_sentence))\n",
    "\n",
    "predicted_y2 = probs2.argmax(axis=-1)\n",
    "print(encoder_import.classes_[predicted_y2][0])"
   ]
  }
 ],
 "metadata": {
  "kernelspec": {
   "display_name": "Python 3 (ipykernel)",
   "language": "python",
   "name": "python3"
  },
  "language_info": {
   "codemirror_mode": {
    "name": "ipython",
    "version": 3
   },
   "file_extension": ".py",
   "mimetype": "text/x-python",
   "name": "python",
   "nbconvert_exporter": "python",
   "pygments_lexer": "ipython3",
   "version": "3.10.11"
  }
 },
 "nbformat": 4,
 "nbformat_minor": 5
}
